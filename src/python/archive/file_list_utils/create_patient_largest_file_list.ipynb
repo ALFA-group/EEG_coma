{
 "cells": [
  {
   "cell_type": "code",
   "execution_count": 1,
   "metadata": {
    "scrolled": true
   },
   "outputs": [],
   "source": [
    "from __future__ import print_function\n",
    "import os\n",
    "import sys"
   ]
  },
  {
   "cell_type": "code",
   "execution_count": 2,
   "metadata": {},
   "outputs": [],
   "source": [
    "def get_largest_eeg_file(patient_filepath):\n",
    "    # returns largest eeg file for patient\n",
    "    # patient_filepath is path to file containing list \n",
    "    # of all eeg files associated with patient\n",
    "    largest_eeg_file = None\n",
    "    largest_eeg_filesize = 0\n",
    "    for line in open(patient_filepath):\n",
    "        eeg_file = line.strip()\n",
    "        size = os.path.getsize(eeg_file)\n",
    "        if size > largest_eeg_filesize:\n",
    "            largest_eeg_filesize = size\n",
    "            largest_eeg_file = eeg_file\n",
    "    return largest_eeg_file"
   ]
  },
  {
   "cell_type": "code",
   "execution_count": 3,
   "metadata": {},
   "outputs": [],
   "source": [
    "def get_largest_eeg_files(patients_dir):\n",
    "    # returns list of largest eeg files for all patients\n",
    "    patient_filepaths = []\n",
    "    for dir_ in os.walk(patients_dir):\n",
    "        filenames = dir_[2]\n",
    "        dirpath = dir_[0]\n",
    "        for filename in filenames:\n",
    "            patient_filepath = os.path.join(dirpath, filename)\n",
    "            patient_filepaths.append(patient_filepath)\n",
    "    largest_files = [get_largest_eeg_file(patient_filepath) for patient_filepath in patient_filepaths]\n",
    "    return largest_files"
   ]
  },
  {
   "cell_type": "code",
   "execution_count": 4,
   "metadata": {},
   "outputs": [],
   "source": [
    "def create_patient_largest_file_list(patients_dir, output_file):\n",
    "    largest_files = get_largest_eeg_files(patients_dir)\n",
    "    output = open(output_file, 'w')\n",
    "    for file_ in largest_files:\n",
    "        print(file_, file=output)"
   ]
  },
  {
   "cell_type": "code",
   "execution_count": 5,
   "metadata": {},
   "outputs": [],
   "source": [
    "if __name__ == \"__main__\":\n",
    "\n",
    "    # Input format: patients_dir output_file\n",
    "\n",
    "    patients_dir = sys.argv[1]\n",
    "    output_file = sys.argv[2]\n",
    "\n",
    "    create_patient_largest_file_list(patients_dir, output_file)\n"
   ]
  }
 ],
 "metadata": {
  "kernelspec": {
   "display_name": "Python 2",
   "language": "python",
   "name": "python2"
  },
  "language_info": {
   "codemirror_mode": {
    "name": "ipython",
    "version": 2
   },
   "file_extension": ".py",
   "mimetype": "text/x-python",
   "name": "python",
   "nbconvert_exporter": "python",
   "pygments_lexer": "ipython2",
   "version": "2.7.14"
  }
 },
 "nbformat": 4,
 "nbformat_minor": 2
}
