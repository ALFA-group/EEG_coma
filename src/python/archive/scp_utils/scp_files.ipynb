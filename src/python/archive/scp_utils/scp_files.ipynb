{
 "cells": [
  {
   "cell_type": "code",
   "execution_count": null,
   "metadata": {
    "collapsed": true
   },
   "outputs": [],
   "source": [
    "from __future__ import print_function\n",
    "import pexpect\n",
    "import random"
   ]
  },
  {
   "cell_type": "code",
   "execution_count": null,
   "metadata": {
    "collapsed": true
   },
   "outputs": [],
   "source": [
    "password  = \"\"\n",
    "server = \"128.52.176.155\"\n",
    "\n",
    "def scp(from_file_path, to_file_path):\n",
    "    print(from_file_path)\n",
    "    try:\n",
    "        command = \"scp tzhan@{}:{} {}\".format(server, from_file_path, to_file_path)\n",
    "        #make sure in the above command that username and hostname are according to your server\n",
    "        child = pexpect.spawn(command)\n",
    "        expect_list = [\"Password:\", \"(\\d{1,3})%\", pexpect.EOF]\n",
    "        i = child.expect(expect_list)\n",
    "        percentage=None\n",
    "        while True:\n",
    "            if i==0: # send password     \n",
    "                child.sendline(password)\n",
    "                i = child.expect(expect_list)\n",
    "            elif i==1:\n",
    "                percentage_str = child.after\n",
    "                new_percentage = int(percentage_str[:-1])\n",
    "                if percentage is None or new_percentage!=percentage:\n",
    "                    percentage = new_percentage\n",
    "                    if percentage % 10 == 0:\n",
    "                        print(percentage_str, end='')\n",
    "                    else:\n",
    "                        print('.', end='')\n",
    "                i = child.expect(expect_list)\n",
    "            elif i==2:\n",
    "                if percentage==100:\n",
    "                    print(\"EOF\")\n",
    "                else:\n",
    "                    print(child.before, child.after)\n",
    "                break\n",
    "\n",
    "    except Exception as e:\n",
    "        print(e)"
   ]
  },
  {
   "cell_type": "code",
   "execution_count": null,
   "metadata": {
    "collapsed": true
   },
   "outputs": [],
   "source": [
    "# scp one file\n",
    "from_file_path = '/afs/csail.mit.edu/u/t/tzhan/NFS/EEG-dataset/outboxMGH_BWH/BWH/Batch2/bwh_121_1_0_20131204T110129.edf'\n",
    "to_file_path = '/Users/tzhan/Dropbox\\ (MIT)/1\\ mit\\ classes/thesis/sample_data/scp_target'\n",
    "scp(from_file_path, to_file_path)"
   ]
  },
  {
   "cell_type": "code",
   "execution_count": null,
   "metadata": {
    "collapsed": true
   },
   "outputs": [],
   "source": [
    "# scp according to list on remote server\n",
    "to_scp_list = '/afs/csail.mit.edu/u/t/tzhan/eeg/patient_file_lists/patient_all_files_whole.txt'\n",
    "local_path = '/Users/tzhan/tmp/to_scp_list.txt'\n",
    "scp(to_scp_list, local_path)\n",
    "with open(local_path) as f:\n",
    "    lines = [x.strip() for x in f.readlines()]\n",
    "\n",
    "lines = random.sample(lines, 20)"
   ]
  },
  {
   "cell_type": "code",
   "execution_count": null,
   "metadata": {
    "collapsed": true
   },
   "outputs": [],
   "source": [
    "for line in lines:\n",
    "    scp(line, to_file_path)"
   ]
  },
  {
   "cell_type": "code",
   "execution_count": null,
   "metadata": {
    "collapsed": true
   },
   "outputs": [],
   "source": [
    "def get(edf_file):\n",
    "    # from file name, get file location"
   ]
  },
  {
   "cell_type": "code",
   "execution_count": null,
   "metadata": {
    "collapsed": true
   },
   "outputs": [],
   "source": [
    "# get a file from remote by the edf name\n",
    "edf_file = 'CA_BIDMC_37_4_20130502_184620.edf'\n",
    "to_file_path = '/Users/tzhan/Dropbox\\ (MIT)/1\\ mit\\ classes/thesis/sample_data/scp_target'\n",
    "\n",
    "all_files_remote_path = '/afs/csail.mit.edu/u/t/tzhan/eeg/patient_file_lists/patient_all_files_whole.txt'\n",
    "all_files_local_path = '/Users/tzhan/tmp/to_scp_list.txt'\n",
    "scp(all_files_remote_path, all_files_local_path)"
   ]
  },
  {
   "cell_type": "code",
   "execution_count": null,
   "metadata": {},
   "outputs": [],
   "source": [
    "with open(all_files_local_path) as f:\n",
    "    for line in f.readlines():\n",
    "        if edf_file in line:\n",
    "            remote_edf_path = line.strip()\n",
    "\n",
    "scp(remote_edf_path, to_file_path)"
   ]
  },
  {
   "cell_type": "code",
   "execution_count": null,
   "metadata": {
    "collapsed": true
   },
   "outputs": [],
   "source": []
  }
 ],
 "metadata": {
  "kernelspec": {
   "display_name": "Python 2",
   "language": "python",
   "name": "python2"
  },
  "language_info": {
   "codemirror_mode": {
    "name": "ipython",
    "version": 2
   },
   "file_extension": ".py",
   "mimetype": "text/x-python",
   "name": "python",
   "nbconvert_exporter": "python",
   "pygments_lexer": "ipython2",
   "version": "2.7.13"
  }
 },
 "nbformat": 4,
 "nbformat_minor": 2
}
