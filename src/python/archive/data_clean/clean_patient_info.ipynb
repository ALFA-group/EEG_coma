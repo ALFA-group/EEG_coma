{
 "cells": [
  {
   "cell_type": "code",
   "execution_count": 9,
   "metadata": {
    "collapsed": true
   },
   "outputs": [],
   "source": [
    "from collections import defaultdict\n",
    "import re\n",
    "import utils"
   ]
  },
  {
   "cell_type": "code",
   "execution_count": 10,
   "metadata": {
    "collapsed": true
   },
   "outputs": [],
   "source": [
    "def write_list(l, fn):\n",
    "    with open(fn, 'w') as f:\n",
    "        for i, x in enumerate(l):\n",
    "            if i!=0:\n",
    "                f.write('\\n')\n",
    "            f.write(x)"
   ]
  },
  {
   "cell_type": "code",
   "execution_count": 11,
   "metadata": {
    "collapsed": true
   },
   "outputs": [],
   "source": [
    "def read_list(fn):\n",
    "    list_ = []\n",
    "    with open(fn, 'r') as f:\n",
    "        for l in f.readlines():\n",
    "            list_.append(l.strip())\n",
    "    return list_"
   ]
  },
  {
   "cell_type": "markdown",
   "metadata": {},
   "source": [
    "# Exclude_sids.txt"
   ]
  },
  {
   "cell_type": "code",
   "execution_count": 12,
   "metadata": {
    "collapsed": true
   },
   "outputs": [],
   "source": [
    "exclude_patient_names = read_list('/afs/csail.mit.edu/u/t/tzhan/eeg/coma_EEG_alice_zhan/patient_outcome_info/exclude_patient_sids.txt')"
   ]
  },
  {
   "cell_type": "markdown",
   "metadata": {},
   "source": [
    "# All_all.txt"
   ]
  },
  {
   "cell_type": "markdown",
   "metadata": {},
   "source": [
    "### Create list of all our patients, and {patient:[edfs]}"
   ]
  },
  {
   "cell_type": "code",
   "execution_count": 13,
   "metadata": {
    "collapsed": true
   },
   "outputs": [],
   "source": [
    "our_patients = set([])\n",
    "all_edfs = read_list('/afs/csail.mit.edu/u/t/tzhan/eeg/coma_EEG_alice_zhan/patient_outcome_info/all_all.txt')\n",
    "patient_to_edfs = defaultdict(list)\n",
    "for edf in all_edfs:\n",
    "    patient = utils.get_pt_from_edf_name(edf)\n",
    "    our_patients.add(patient)\n",
    "    edf_fn = edf.split('/')[-1]\n",
    "    patient_to_edfs[patient].append(edf_fn)\n",
    "our_patients = list(our_patients)\n",
    "our_patients.sort(key=utils.parse_patient_name)\n",
    "patient_to_edfs = dict(patient_to_edfs)"
   ]
  },
  {
   "cell_type": "code",
   "execution_count": 14,
   "metadata": {
    "collapsed": true
   },
   "outputs": [],
   "source": [
    "#write_list(our_patients, '/afs/csail.mit.edu/u/t/tzhan/eeg/coma_EEG_alice_zhan/patient_outcome_info/all_patient_names.txt')"
   ]
  },
  {
   "cell_type": "markdown",
   "metadata": {},
   "source": [
    "# Master Lookup"
   ]
  },
  {
   "cell_type": "markdown",
   "metadata": {},
   "source": [
    "### List of all sids"
   ]
  },
  {
   "cell_type": "code",
   "execution_count": 15,
   "metadata": {
    "collapsed": true
   },
   "outputs": [],
   "source": [
    "import pandas as pd"
   ]
  },
  {
   "cell_type": "code",
   "execution_count": 19,
   "metadata": {
    "collapsed": true
   },
   "outputs": [],
   "source": [
    "lookup = pd.read_csv('/afs/csail.mit.edu/u/t/tzhan/eeg/coma_EEG_alice_zhan/patient_outcome_info/master_lookup.csv')\n",
    "sids = lookup['sid']\n",
    "master_patient_names = list(set(sids.tolist()))\n",
    "master_patient_names = [p for p in master_patient_names if type(p)==str] # get rid of nan"
   ]
  },
  {
   "cell_type": "code",
   "execution_count": 20,
   "metadata": {
    "collapsed": true
   },
   "outputs": [],
   "source": [
    "master_patient_names.sort(key=utils.parse_patient_name)"
   ]
  },
  {
   "cell_type": "code",
   "execution_count": 21,
   "metadata": {
    "collapsed": true
   },
   "outputs": [],
   "source": [
    "write_list(master_patient_names, '/afs/csail.mit.edu/u/t/tzhan/eeg/coma_EEG_alice_zhan/patient_outcome_info/all_new_patient_names.txt')"
   ]
  },
  {
   "cell_type": "markdown",
   "metadata": {},
   "source": [
    "### Create mapping from sid to Y/N should be included or not"
   ]
  },
  {
   "cell_type": "code",
   "execution_count": 24,
   "metadata": {
    "collapsed": true
   },
   "outputs": [],
   "source": [
    "import numpy as np"
   ]
  },
  {
   "cell_type": "code",
   "execution_count": 27,
   "metadata": {
    "collapsed": true
   },
   "outputs": [],
   "source": [
    "sid_to_yn = {}\n",
    "for i, row in lookup.iterrows():\n",
    "    sid, yn = row['sid'], row['master_match']\n",
    "    if pd.isnull(sid):\n",
    "        continue\n",
    "    assert(yn=='Y' or yn=='N'), 'yn not Y or N'\n",
    "    if sid in sid_to_yn:\n",
    "        assert(sid_to_yn[sid]==yn), \"one sid with more than one yn\"\n",
    "    else:\n",
    "        sid_to_yn[sid]=yn"
   ]
  },
  {
   "cell_type": "markdown",
   "metadata": {},
   "source": [
    "### Create mapping from sid to edfs"
   ]
  },
  {
   "cell_type": "code",
   "execution_count": null,
   "metadata": {
    "collapsed": true
   },
   "outputs": [],
   "source": [
    "lookup = pd.read_csv('/afs/csail.mit.edu/u/t/tzhan/eeg/coma_EEG_alice_zhan/patient_outcome_info/master_lookup.csv')\n",
    "sid_to_edfs = defaultdict(list)\n",
    "for i, row in lookup.iterrows():\n",
    "    sid, fn = row['sid'], row['new_filename']\n",
    "    if pd.isnull(sid):\n",
    "        continue\n",
    "    sid_to_edfs[sid].append(fn)\n",
    "sid_to_edfs = dict(sid_to_edfs)"
   ]
  },
  {
   "cell_type": "markdown",
   "metadata": {},
   "source": [
    "### Check sid, studyID, and id..."
   ]
  },
  {
   "cell_type": "code",
   "execution_count": 31,
   "metadata": {},
   "outputs": [
    {
     "name": "stdout",
     "output_type": "stream",
     "text": [
      "sid nan, studyid 191, id 191.0\n",
      "sid nan, studyid 191, id 191.0\n",
      "sid nan, studyid 191, id 191.0\n",
      "sid nan, studyid 191, id 191.0\n",
      "sid nan, studyid 191, id 191.0\n",
      "sid nan, studyid 191, id 191.0\n",
      "sid nan, studyid 218, id 218.0\n",
      "sid nan, studyid 218, id 218.0\n",
      "sid nan, studyid 218, id 218.0\n",
      "sid nan, studyid 218, id 218.0\n",
      "sid nan, studyid 218, id 218.0\n",
      "sid nan, studyid 218, id 218.0\n",
      "sid nan, studyid 219, id 219.0\n",
      "sid nan, studyid 219, id 219.0\n",
      "sid nan, studyid 219, id 219.0\n",
      "sid nan, studyid 219, id 219.0\n",
      "sid nan, studyid 219, id 219.0\n",
      "sid nan, studyid 219, id 219.0\n",
      "sid nan, studyid 219, id 219.0\n",
      "sid nan, studyid 219, id 219.0\n",
      "sid nan, studyid 219, id 219.0\n",
      "sid nan, studyid 220, id 220.0\n",
      "sid nan, studyid 220, id 220.0\n",
      "sid nan, studyid 220, id 220.0\n",
      "sid                                                  NaN\n",
      "master_match                                           N\n",
      "site                                                 bwh\n",
      "file                                                 NaN\n",
      "StudyID                                              NaN\n",
      "ID                                                   NaN\n",
      "fn                                                   NaN\n",
      "edf_filename         CA_BWH_333_10_3_20130903_073737.edf\n",
      "old_filename         CA_BWH_333_10_3_20130903_073718.edf\n",
      "new_filename                                         NaN\n",
      "num_channels                                          17\n",
      "sampling_rate                                        512\n",
      "start_time                                   9/3/13 7:37\n",
      "dateArrest                                           NaT\n",
      "duration_file                                        NaN\n",
      "arrest_to_EEGTime                                    NaN\n",
      "Name: 1364, dtype: object\n",
      "sid                                                  NaN\n",
      "master_match                                           N\n",
      "site                                                 bwh\n",
      "file                                                 NaN\n",
      "StudyID                                              NaN\n",
      "ID                                                   NaN\n",
      "fn                                                   NaN\n",
      "edf_filename         CA_BWH_333_10_4_20130903_130308.edf\n",
      "old_filename         CA_BWH_333_10_4_20130903_130318.edf\n",
      "new_filename                                         NaN\n",
      "num_channels                                          17\n",
      "sampling_rate                                        512\n",
      "start_time                                  9/3/13 13:03\n",
      "dateArrest                                           NaT\n",
      "duration_file                                        NaN\n",
      "arrest_to_EEGTime                                    NaN\n",
      "Name: 1365, dtype: object\n",
      "sid                                                  NaN\n",
      "master_match                                           N\n",
      "site                                                 bwh\n",
      "file                                                 NaN\n",
      "StudyID                                              NaN\n",
      "ID                                                   NaN\n",
      "fn                                                   NaN\n",
      "edf_filename         CA_BWH_333_10_5_20130903_182839.edf\n",
      "old_filename         CA_BWH_333_10_5_20130903_182818.edf\n",
      "new_filename                                         NaN\n",
      "num_channels                                          17\n",
      "sampling_rate                                        512\n",
      "start_time                                  9/3/13 18:28\n",
      "dateArrest                                           NaT\n",
      "duration_file                                        NaN\n",
      "arrest_to_EEGTime                                    NaN\n",
      "Name: 1366, dtype: object\n",
      "sid                                                  NaN\n",
      "master_match                                           N\n",
      "site                                                 bwh\n",
      "file                                                 NaN\n",
      "StudyID                                              NaN\n",
      "ID                                                   NaN\n",
      "fn                                                   NaN\n",
      "edf_filename         CA_BWH_333_10_6_20130903_235411.edf\n",
      "old_filename         CA_BWH_333_10_6_20130903_235418.edf\n",
      "new_filename                                         NaN\n",
      "num_channels                                          17\n",
      "sampling_rate                                        512\n",
      "start_time                                  9/3/13 23:54\n",
      "dateArrest                                           NaT\n",
      "duration_file                                        NaN\n",
      "arrest_to_EEGTime                                    NaN\n",
      "Name: 1367, dtype: object\n",
      "sid                                                  NaN\n",
      "master_match                                           N\n",
      "site                                                 bwh\n",
      "file                                                 NaN\n",
      "StudyID                                              NaN\n",
      "ID                                                   NaN\n",
      "fn                                                   NaN\n",
      "edf_filename         CA_BWH_333_10_7_20130904_051942.edf\n",
      "old_filename         CA_BWH_333_10_7_20130904_051918.edf\n",
      "new_filename                                         NaN\n",
      "num_channels                                          17\n",
      "sampling_rate                                        512\n",
      "start_time                                   9/4/13 5:19\n",
      "dateArrest                                           NaT\n",
      "duration_file                                        NaN\n",
      "arrest_to_EEGTime                                    NaN\n",
      "Name: 1368, dtype: object\n",
      "sid                                                  NaN\n",
      "master_match                                           N\n",
      "site                                                 bwh\n",
      "file                                                 NaN\n",
      "StudyID                                              NaN\n",
      "ID                                                   NaN\n",
      "fn                                                   NaN\n",
      "edf_filename         CA_BWH_333_11_8_20130904_073046.edf\n",
      "old_filename         CA_BWH_333_11_8_20130904_073018.edf\n",
      "new_filename                                         NaN\n",
      "num_channels                                          17\n",
      "sampling_rate                                        512\n",
      "start_time                                   9/4/13 7:30\n",
      "dateArrest                                           NaT\n",
      "duration_file                                        NaN\n",
      "arrest_to_EEGTime                                    NaN\n",
      "Name: 1369, dtype: object\n",
      "sid                                                  NaN\n",
      "master_match                                           N\n",
      "site                                                 bwh\n",
      "file                                                 NaN\n",
      "StudyID                                              NaN\n",
      "ID                                                   NaN\n",
      "fn                                                   NaN\n",
      "edf_filename         CA_BWH_333_11_9_20130904_125617.edf\n",
      "old_filename         CA_BWH_333_11_9_20130904_125618.edf\n",
      "new_filename                                         NaN\n",
      "num_channels                                          17\n",
      "sampling_rate                                        512\n",
      "start_time                                  9/4/13 12:56\n",
      "dateArrest                                           NaT\n",
      "duration_file                                        NaN\n",
      "arrest_to_EEGTime                                    NaN\n",
      "Name: 1370, dtype: object\n",
      "sid nan, studyid 357, id 357.0\n",
      "sid nan, studyid 357, id 357.0\n",
      "sid nan, studyid 357, id 357.0\n",
      "sid nan, studyid 357, id 357.0\n",
      "sid nan, studyid 357, id 357.0\n",
      "sid nan, studyid 357, id 357.0\n",
      "sid nan, studyid 357, id 357.0\n",
      "sid nan, studyid 357, id 357.0\n",
      "sid nan, studyid 357, id 357.0\n",
      "sid nan, studyid 357, id 357.0\n",
      "sid                                                  NaN\n",
      "master_match                                           N\n",
      "site                                                 bwh\n",
      "file                                                 NaN\n",
      "StudyID                                              NaN\n",
      "ID                                                   NaN\n",
      "fn                                                   NaN\n",
      "edf_filename         CA_BWH_604_10_5_20140130_082833.edf\n",
      "old_filename         CA_BWH_604_10_5_20140130_082828.edf\n",
      "new_filename                                         NaN\n",
      "num_channels                                          22\n",
      "sampling_rate                                        256\n",
      "start_time                                  1/30/14 8:28\n",
      "dateArrest                                           NaT\n",
      "duration_file                                        NaN\n",
      "arrest_to_EEGTime                                    NaN\n",
      "Name: 1381, dtype: object\n"
     ]
    },
    {
     "name": "stdout",
     "output_type": "stream",
     "text": [
      "0 sid=bi13, studyid=677FLAGGED, id=13\n",
      "4 sid=bi13, studyid=677FLAGGED, id=13\n"
     ]
    }
   ],
   "source": [
    "for i, row in lookup.iterrows():\n",
    "    full_sid, studyid, id_ = row['sid'], row['StudyID'], row['ID']\n",
    "    if pd.isnull(full_sid):\n",
    "        if pd.isnull(studyid):\n",
    "            print(row)\n",
    "        else:\n",
    "            print('sid {}, studyid {}, id {}'.format(full_sid, studyid, id_))\n",
    "        continue\n",
    "    try:\n",
    "        id_ = int(id_)\n",
    "        studyid = int(studyid)\n",
    "        sid = utils.parse_out_patient_id(full_sid)\n",
    "    except:\n",
    "        print('0 sid={}, studyid={}, id={}'.format(full_sid, studyid, id_))        \n",
    "    if sid==studyid and sid==id_:\n",
    "        # normal case\n",
    "        continue\n",
    "    if sid!=studyid and studyid==id_:\n",
    "        # expect this case for 'bwh'\n",
    "        if 'bwh' in full_sid:\n",
    "            # normal\n",
    "            #print('1 sid={}, studyid and id={}'.format(full_sid, studyid))\n",
    "            pass\n",
    "        else:\n",
    "            print('!!!!!!!!!1 sid={}, studyid and id={}'.format(full_sid, studyid))\n",
    "    if sid==studyid and studyid!=id_:\n",
    "        print('2 sid, studyid={}, id={}'.format(full_sid, id_))\n",
    "    if sid==id_ and studyid!=sid:\n",
    "        if 'bi' in full_sid:\n",
    "            pass\n",
    "        else:\n",
    "            print('!!!!!!3 sid, id={}, studyid={}'.format(full_sid, studyid))\n",
    "    if sid!=studyid and sid!=id_ and id_!=studyid:\n",
    "        print('4 sid={}, studyid={}, id={}'.format(full_sid, studyid, id_))"
   ]
  },
  {
   "cell_type": "markdown",
   "metadata": {},
   "source": [
    "### Get list of patients which are skipped in master_patient_names"
   ]
  },
  {
   "cell_type": "code",
   "execution_count": 32,
   "metadata": {
    "collapsed": true
   },
   "outputs": [],
   "source": [
    "def get_skipped_patients(patient_list):\n",
    "    hosp_to_max_id = {'ynh':1, 'bi':1, 'mgh':1, 'bwh':1}\n",
    "    for sid in patient_list:\n",
    "        hosp, pid = utils.parse_patient_name(sid)\n",
    "        hosp_to_max_id[hosp]= max(hosp_to_max_id[hosp], pid) \n",
    "    skipped_patients = []\n",
    "    for hosp in ['ynh', 'bi', 'mgh', 'bwh']:\n",
    "        for i in range(1, hosp_to_max_id[hosp]+1):\n",
    "            sid = '{}{}'.format(hosp, i)\n",
    "            if sid not in patient_list:\n",
    "                skipped_patients.append(sid)\n",
    "    return skipped_patients"
   ]
  },
  {
   "cell_type": "code",
   "execution_count": 34,
   "metadata": {
    "collapsed": true
   },
   "outputs": [],
   "source": [
    "skipped_patients = get_skipped_patients(master_patient_names)\n",
    "skipped_patients_master = skipped_patients\n",
    "sure_skipped_patients = []\n",
    "maybe_skipped_patients = []\n",
    "for pt in skipped_patients:\n",
    "    hosp, pid = utils.parse_patient_name(pt)\n",
    "    if hosp=='bwh' and pid >= 143:\n",
    "        # can't tell if actually is a skip, because bwh numbers jump weirdly\n",
    "        maybe_skipped_patients.append(pt)\n",
    "    else:\n",
    "        sure_skipped_patients.append(pt)"
   ]
  },
  {
   "cell_type": "code",
   "execution_count": 38,
   "metadata": {
    "collapsed": true
   },
   "outputs": [],
   "source": [
    "write_list(maybe_skipped_patients, \"maybe_skipped_master.txt\")\n",
    "write_list(sure_skipped_patients, \"sure_skipped_master.txt\")"
   ]
  },
  {
   "cell_type": "markdown",
   "metadata": {},
   "source": [
    "## Get list of patients in outcomes excel"
   ]
  },
  {
   "cell_type": "code",
   "execution_count": 1,
   "metadata": {},
   "outputs": [
    {
     "ename": "NameError",
     "evalue": "name 'pd' is not defined",
     "output_type": "error",
     "traceback": [
      "\u001b[0;31m---------------------------------------------------------------------------\u001b[0m",
      "\u001b[0;31mNameError\u001b[0m                                 Traceback (most recent call last)",
      "\u001b[0;32m<ipython-input-1-c37572b25f5b>\u001b[0m in \u001b[0;36m<module>\u001b[0;34m()\u001b[0m\n\u001b[0;32m----> 1\u001b[0;31m \u001b[0moutcomes_df\u001b[0m \u001b[0;34m=\u001b[0m \u001b[0mpd\u001b[0m\u001b[0;34m.\u001b[0m\u001b[0mread_csv\u001b[0m\u001b[0;34m(\u001b[0m\u001b[0;34m'/afs/csail.mit.edu/u/t/tzhan/eeg/coma_EEG_alice_zhan/patient_outcome_info/new_outcomes.csv'\u001b[0m\u001b[0;34m)\u001b[0m\u001b[0;34m\u001b[0m\u001b[0m\n\u001b[0m\u001b[1;32m      2\u001b[0m \u001b[0moutcomes_patient_names\u001b[0m \u001b[0;34m=\u001b[0m \u001b[0moutcomes_df\u001b[0m\u001b[0;34m[\u001b[0m\u001b[0;34m'sid'\u001b[0m\u001b[0;34m]\u001b[0m\u001b[0;34m.\u001b[0m\u001b[0mtolist\u001b[0m\u001b[0;34m(\u001b[0m\u001b[0;34m)\u001b[0m\u001b[0;34m\u001b[0m\u001b[0m\n\u001b[1;32m      3\u001b[0m \u001b[0moutcomes_patient_names\u001b[0m \u001b[0;34m=\u001b[0m \u001b[0msorted\u001b[0m\u001b[0;34m(\u001b[0m\u001b[0moutcomes_patient_names\u001b[0m\u001b[0;34m,\u001b[0m \u001b[0mkey\u001b[0m\u001b[0;34m=\u001b[0m\u001b[0mutils\u001b[0m\u001b[0;34m.\u001b[0m\u001b[0mparse_patient_name\u001b[0m\u001b[0;34m)\u001b[0m\u001b[0;34m\u001b[0m\u001b[0m\n",
      "\u001b[0;31mNameError\u001b[0m: name 'pd' is not defined"
     ]
    }
   ],
   "source": [
    "outcomes_df = pd.read_csv('/afs/csail.mit.edu/u/t/tzhan/eeg/coma_EEG_alice_zhan/patient_outcome_info/new_outcomes.csv')\n",
    "outcomes_patient_names = outcomes_df['sid'].tolist()\n",
    "outcomes_patient_names = sorted(outcomes_patient_names, key=utils.parse_patient_name)"
   ]
  },
  {
   "cell_type": "code",
   "execution_count": null,
   "metadata": {
    "collapsed": true
   },
   "outputs": [],
   "source": [
    "#write_list(outcomes_patient_names, '/Users/tzhan/src/coma_EEG_alice_zhan/patient_outcome_info/patients_with_outcomes.txt')"
   ]
  },
  {
   "cell_type": "markdown",
   "metadata": {},
   "source": [
    "### Get list of patients which are skipped in outcomes_patient_names"
   ]
  },
  {
   "cell_type": "code",
   "execution_count": 94,
   "metadata": {
    "collapsed": true
   },
   "outputs": [],
   "source": [
    "skipped_patients_outcomes = get_skipped_patients(outcomes_patient_names)"
   ]
  },
  {
   "cell_type": "markdown",
   "metadata": {},
   "source": [
    "# Comparing outcomes list and master list\n",
    "\n",
    "#### Outcomes list is a SUBSET of master list\n",
    "#### Skipped list for master is a subset of skipped list for outcomes"
   ]
  },
  {
   "cell_type": "code",
   "execution_count": 99,
   "metadata": {},
   "outputs": [
    {
     "name": "stdout",
     "output_type": "stream",
     "text": [
      "set([])\n",
      "set(['bwh121', 'ynh112', 'bwh70', 'bi90', 'ynh131', 'mgh82', 'bi94', 'ynh136', 'bwh33', 'mgh149', 'ynh101', 'ynh158', 'mgh83', 'mgh100', 'bi7', 'ynh157', 'ynh89', 'mgh147', 'mgh145', 'mgh144', 'mgh2', 'bi5', 'bi42', 'bi63', 'bi23', 'ynh6', 'bi68', 'mgh168', 'mgh50', 'mgh37', 'bi31', 'bi47', 'mgh71', 'mgh73', 'mgh182', 'ynh62', 'ynh76', 'ynh2', 'ynh53', 'mgh18', 'mgh19', 'mgh161', 'bi86', 'ynh122', 'mgh49', 'mgh94', 'ynh97', 'bi110', 'bi56', 'ynh140', 'mgh9', 'mgh119', 'bi12', 'bi13', 'bi14', 'ynh32', 'bi39', 'bi76', 'mgh134', 'mgh113', 'mgh132', 'mgh163', 'mgh130', 'bi11', 'ynh55', 'bi79', 'bi59', 'ynh75', 'ynh11', 'mgh48', 'ynh79', 'bi40', 'mgh63'])\n"
     ]
    }
   ],
   "source": [
    "outcomes_set = set(outcomes_patient_names)\n",
    "master_set = set(master_patient_names)\n",
    "print outcomes_set.difference(master_set)\n",
    "print master_set.difference(outcomes_set)"
   ]
  },
  {
   "cell_type": "code",
   "execution_count": 98,
   "metadata": {
    "scrolled": false
   },
   "outputs": [
    {
     "name": "stdout",
     "output_type": "stream",
     "text": [
      "set(['bwh121', 'ynh112', 'bwh70', 'bi90', 'ynh131', 'mgh100', 'bi94', 'ynh136', 'bwh33', 'mgh149', 'ynh101', 'ynh158', 'mgh83', 'mgh82', 'bi7', 'ynh157', 'bi5', 'mgh147', 'mgh145', 'mgh144', 'mgh2', 'ynh89', 'bi63', 'bi23', 'mgh19', 'bi68', 'mgh168', 'mgh50', 'mgh37', 'bi31', 'bi47', 'mgh71', 'mgh73', 'bi11', 'bi42', 'ynh62', 'bi40', 'ynh2', 'ynh75', 'mgh18', 'ynh6', 'mgh161', 'bi86', 'ynh122', 'mgh49', 'mgh94', 'ynh97', 'ynh76', 'bi110', 'ynh79', 'ynh140', 'ynh32', 'mgh119', 'bi12', 'bi13', 'bi14', 'mgh9', 'bi39', 'bi76', 'mgh134', 'mgh113', 'mgh132', 'mgh163', 'mgh130', 'mgh182', 'ynh55', 'bi79', 'bi59', 'ynh53', 'ynh11', 'mgh48', 'bi56', 'mgh63'])\n",
      "set([])\n"
     ]
    }
   ],
   "source": [
    "skipped_patients_master==skipped_patients_outcomes\n",
    "skipped_o_set = set(skipped_patients_outcomes)\n",
    "skipped_m_set = set(skipped_patients_master)\n",
    "print skipped_o_set.difference(skipped_m_set)\n",
    "print skipped_m_set.difference(skipped_o_set)"
   ]
  },
  {
   "cell_type": "markdown",
   "metadata": {},
   "source": [
    "## Other"
   ]
  },
  {
   "cell_type": "code",
   "execution_count": 1,
   "metadata": {
    "collapsed": true
   },
   "outputs": [],
   "source": [
    "def convert_old_name_to_new_format(patient, edf_style=False):\n",
    "    hosp_mapping = {'CA_BIDMC':'bi', 'CA_MGH':'mgh', 'ynh':'ynh', 'bwh':'bwh'}\n",
    "    hosp, pid = utils.parse_patient_name(patient)\n",
    "    new_hosp = hosp_mapping[hosp]\n",
    "    if edf_style:\n",
    "        return '{}_{}'.format(new_hosp, pid)\n",
    "    return '{}{}'.format(new_hosp, pid)"
   ]
  },
  {
   "cell_type": "code",
   "execution_count": 17,
   "metadata": {
    "collapsed": true
   },
   "outputs": [],
   "source": [
    "mapping = {'bwh_1605' : 'bwh211', 'bwh_1636':'bwh210', 'bwh_1639':'bwh212', 'bwh_1641':'bwh213'}"
   ]
  },
  {
   "cell_type": "code",
   "execution_count": 36,
   "metadata": {
    "collapsed": true
   },
   "outputs": [],
   "source": [
    "def guess_corresponding_id(patient):\n",
    "    if patient in mapping:\n",
    "        return mapping[patient]\n",
    "    new_fmt = convert_old_name_to_new_format(patient)\n",
    "    return new_fmt"
   ]
  },
  {
   "cell_type": "code",
   "execution_count": null,
   "metadata": {
    "collapsed": true
   },
   "outputs": [],
   "source": [
    "def extract_and_underscore_timestamp(our_edf_name):\n",
    "    # extracts out timestamp from our edf\n",
    "    # if uses T instead of '_', as with bwh and ynh, return with '_'\n",
    "    match_obj = re.search('_(\\d+(_|T)\\d+).edf', our_edf_name)\n",
    "    if match_obj is None:\n",
    "        print \"WARNING: FILE NAME IS WEIRD\"\n",
    "        return our_edf_name\n",
    "    ts = match_obj.group(1)\n",
    "    ts = ts.replace('T', '_')\n",
    "    chunks = ts.split('_')\n",
    "    if (len(chunks[0])!=8 or len(chunks[1])!=6):\n",
    "        print \"WARNING: ts weird {}\".format(ts)\n",
    "    return ts"
   ]
  },
  {
   "cell_type": "code",
   "execution_count": 146,
   "metadata": {
    "collapsed": true
   },
   "outputs": [],
   "source": [
    "def seem_similar(master_edfs, our_edfs, vb=False):\n",
    "    if len(master_edfs)!=len(our_edfs):\n",
    "        if vb:\n",
    "            print('lens not equal, len(master)={}, len(our)={}'.format(len(master_edfs), len(our_edfs)))\n",
    "        return False\n",
    "    num_not_matching = 0\n",
    "    master_timestamps = [extract_and_underscore_timestamp(master_edf) for master_edf in master_edfs]\n",
    "    master_timestamps_sans_last_two_digits = [ts[:-2] for ts in master_timestamps]\n",
    "    for our_edf in our_edfs:\n",
    "        ts = extract_and_underscore_timestamp(our_edf)\n",
    "        ts_sans_last_two_digits = ts[:-2]\n",
    "        if ts_sans_last_two_digits not in master_timestamps_sans_last_two_digits:\n",
    "            # no matching master timestamp\n",
    "            if vb:\n",
    "                print('ts with no match {}'.format(ts))\n",
    "            num_not_matching +=1\n",
    "    if (num_not_matching+0.0)/len(our_edfs) <= 0.25:\n",
    "        return True\n",
    "    if vb:\n",
    "        print '{} out of {} ts without match'.format(num_not_matching, len(our_edfs))\n",
    "    return False"
   ]
  },
  {
   "cell_type": "markdown",
   "metadata": {},
   "source": [
    "### Collect list of matchings which won't be verified as matches by seem_similar"
   ]
  },
  {
   "cell_type": "code",
   "execution_count": 147,
   "metadata": {
    "collapsed": true
   },
   "outputs": [],
   "source": [
    "our_patient_to_guess_id_exceptions = [\n",
    "    ('CA_BIDMC_20', 'bi20')   # len(our_edf)==1 but matches with one of the many master ones\n",
    "]"
   ]
  },
  {
   "cell_type": "markdown",
   "metadata": {},
   "source": [
    "### Check status of all patients:\n",
    "#### Do they having a matching new sid?\n",
    "##### If so: does it have a 'Y'? does it have outcome? is it in exclude list?\n",
    "#### If no matching new sid, \n",
    "##### Is it because the corresponding new sid was skipped? Or is it an old sid?"
   ]
  },
  {
   "cell_type": "code",
   "execution_count": 152,
   "metadata": {
    "scrolled": true
   },
   "outputs": [
    {
     "name": "stdout",
     "output_type": "stream",
     "text": [
      "\n",
      "ANALYZING PATIENT CA_BIDMC_1\n",
      "('seems like good matching', 'CA_BIDMC_1', 'bi1')\n",
      "PERFECT! Y in master, has outcome, and not in exclude\n",
      "\n",
      "ANALYZING PATIENT CA_BIDMC_2\n",
      "('seems like good matching', 'CA_BIDMC_2', 'bi2')\n",
      "PERFECT! Y in master, has outcome, and not in exclude\n",
      "\n",
      "ANALYZING PATIENT CA_BIDMC_3\n",
      "('seems like good matching', 'CA_BIDMC_3', 'bi3')\n",
      "PERFECT! Y in master, has outcome, and not in exclude\n",
      "\n",
      "ANALYZING PATIENT CA_BIDMC_4\n",
      "('seems like good matching', 'CA_BIDMC_4', 'bi4')\n",
      "PERFECT! Y in master, has outcome, and not in exclude\n",
      "\n",
      "ANALYZING PATIENT CA_BIDMC_5\n",
      "('seems like good matching', 'CA_BIDMC_5', 'bi5')\n",
      "sid not in outcomes\n",
      "in exclude list\n",
      "\n",
      "ANALYZING PATIENT CA_BIDMC_6\n",
      "('seems like good matching', 'CA_BIDMC_6', 'bi6')\n",
      "PERFECT! Y in master, has outcome, and not in exclude\n",
      "\n",
      "ANALYZING PATIENT CA_BIDMC_7\n",
      "('seems like good matching', 'CA_BIDMC_7', 'bi7')\n",
      "sid not in outcomes\n",
      "in exclude list\n",
      "\n",
      "ANALYZING PATIENT CA_BIDMC_8\n",
      "('seems like good matching', 'CA_BIDMC_8', 'bi8')\n",
      "PERFECT! Y in master, has outcome, and not in exclude\n",
      "\n",
      "ANALYZING PATIENT CA_BIDMC_9\n",
      "('seems like good matching', 'CA_BIDMC_9', 'bi9')\n",
      "PERFECT! Y in master, has outcome, and not in exclude\n",
      "\n",
      "ANALYZING PATIENT CA_BIDMC_10\n",
      "('seems like good matching', 'CA_BIDMC_10', 'bi10')\n",
      "PERFECT! Y in master, has outcome, and not in exclude\n",
      "\n",
      "ANALYZING PATIENT CA_BIDMC_11\n",
      "('seems like good matching', 'CA_BIDMC_11', 'bi11')\n",
      "sid not in outcomes\n",
      "in exclude list\n",
      "\n",
      "ANALYZING PATIENT CA_BIDMC_12\n",
      "('seems like good matching', 'CA_BIDMC_12', 'bi12')\n",
      "sid not in outcomes\n",
      "in exclude list\n",
      "\n",
      "ANALYZING PATIENT CA_BIDMC_13\n",
      "('seems like good matching', 'CA_BIDMC_13', 'bi13')\n",
      "sid not in outcomes\n",
      "in exclude list\n",
      "\n",
      "ANALYZING PATIENT CA_BIDMC_14\n",
      "('seems like good matching', 'CA_BIDMC_14', 'bi14')\n",
      "sid not in outcomes\n",
      "in exclude list\n",
      "\n",
      "ANALYZING PATIENT CA_BIDMC_15\n",
      "('seems like good matching', 'CA_BIDMC_15', 'bi15')\n",
      "PERFECT! Y in master, has outcome, and not in exclude\n",
      "\n",
      "ANALYZING PATIENT CA_BIDMC_16\n",
      "('seems like good matching', 'CA_BIDMC_16', 'bi16')\n",
      "PERFECT! Y in master, has outcome, and not in exclude\n",
      "\n",
      "ANALYZING PATIENT CA_BIDMC_17\n",
      "('seems like good matching', 'CA_BIDMC_17', 'bi17')\n",
      "PERFECT! Y in master, has outcome, and not in exclude\n",
      "\n",
      "ANALYZING PATIENT CA_BIDMC_18\n",
      "('seems like good matching', 'CA_BIDMC_18', 'bi18')\n",
      "PERFECT! Y in master, has outcome, and not in exclude\n",
      "\n",
      "ANALYZING PATIENT CA_BIDMC_19\n",
      "('seems like good matching', 'CA_BIDMC_19', 'bi19')\n",
      "PERFECT! Y in master, has outcome, and not in exclude\n",
      "\n",
      "ANALYZING PATIENT CA_BIDMC_20\n",
      "('seems like good matching', 'CA_BIDMC_20', 'bi20')\n",
      "YN=Y\n",
      "in exclude list\n",
      "\n",
      "ANALYZING PATIENT CA_BIDMC_21\n",
      "('seems like good matching', 'CA_BIDMC_21', 'bi21')\n",
      "PERFECT! Y in master, has outcome, and not in exclude\n",
      "\n",
      "ANALYZING PATIENT CA_BIDMC_22\n",
      "('seems like good matching', 'CA_BIDMC_22', 'bi22')\n",
      "PERFECT! Y in master, has outcome, and not in exclude\n",
      "\n",
      "ANALYZING PATIENT CA_BIDMC_23\n",
      "WARNING: ts weird 20101007_11234\n",
      "('seems like good matching', 'CA_BIDMC_23', 'bi23')\n",
      "sid not in outcomes\n",
      "in exclude list\n",
      "\n",
      "ANALYZING PATIENT CA_BIDMC_24\n",
      "('guess id and patient id did not match', 'CA_BIDMC_24', 'bi24', ['bi_24_1_1_20140122_223132.edf', 'bi_24_2_1_20140123_070117.edf', 'bi_24_1_1_20140119_070123.edf', 'bi_24_1_2_20140119_175225.edf', 'bi_24_1_3_20140120_044328.edf', 'bi_24_2_1_20140120_070119.edf', 'bi_24_2_2_20140120_175221.edf', 'bi_24_2_3_20140121_044324.edf', 'bi_24_3_1_20140121_070118.edf'], ['CA_BIDMC_24_1_20140122_223130.edf', 'CA_BIDMC_24_2_20140123_070116.edf'])\n",
      "\n",
      "ANALYZING PATIENT CA_BIDMC_25\n",
      "('guess id not in master', 'CA_BIDMC_25', 'bi25')\n",
      "\n",
      "ANALYZING PATIENT CA_BIDMC_26\n",
      "('seems like good matching', 'CA_BIDMC_26', 'bi26')\n",
      "PERFECT! Y in master, has outcome, and not in exclude\n",
      "\n",
      "ANALYZING PATIENT CA_BIDMC_27\n",
      "('guess id not in master', 'CA_BIDMC_27', 'bi27')\n",
      "\n",
      "ANALYZING PATIENT CA_BIDMC_28\n",
      "('seems like good matching', 'CA_BIDMC_28', 'bi28')\n",
      "PERFECT! Y in master, has outcome, and not in exclude\n",
      "\n",
      "ANALYZING PATIENT CA_BIDMC_29\n",
      "('seems like good matching', 'CA_BIDMC_29', 'bi29')\n",
      "PERFECT! Y in master, has outcome, and not in exclude\n",
      "\n",
      "ANALYZING PATIENT CA_BIDMC_30\n",
      "('seems like good matching', 'CA_BIDMC_30', 'bi30')\n",
      "PERFECT! Y in master, has outcome, and not in exclude\n",
      "\n",
      "ANALYZING PATIENT CA_BIDMC_31\n",
      "('seems like good matching', 'CA_BIDMC_31', 'bi31')\n",
      "sid not in outcomes\n",
      "in exclude list\n",
      "\n",
      "ANALYZING PATIENT CA_BIDMC_32\n",
      "('guess id and patient id did not match', 'CA_BIDMC_32', 'bi32', ['bi_32_1_1_20120315_233753.edf', 'bi_32_1_2_20120316_070118.edf'], ['CA_BIDMC_32_1_20120315_233752.edf'])\n",
      "\n",
      "ANALYZING PATIENT CA_BIDMC_33\n",
      "('guess id and patient id did not match', 'CA_BIDMC_33', 'bi33', ['bi_33_1_1_20140130_070117.edf', 'bi_33_1_2_20140130_175219.edf', 'bi_33_1_3_20140131_044322.edf', 'bi_33_2_1_20140129_144110.edf', 'bi_33_2_2_20140130_013212.edf', 'bi_33_1_2_20140131_070126.edf', 'bi_33_1_3_20140131_175228.edf'], ['CA_BIDMC_33_4_20140129_144109.edf', 'CA_BIDMC_33_1_20140130_070116.edf', 'CA_BIDMC_33_2_20140130_175218.edf', 'CA_BIDMC_33_3_20140131_044321.edf', 'CA_BIDMC_33_5_20140130_013211.edf'])\n",
      "\n",
      "ANALYZING PATIENT CA_BIDMC_34\n",
      "('seems like good matching', 'CA_BIDMC_34', 'bi34')\n",
      "PERFECT! Y in master, has outcome, and not in exclude\n",
      "\n",
      "ANALYZING PATIENT CA_BIDMC_35\n",
      "('seems like good matching', 'CA_BIDMC_35', 'bi35')\n",
      "PERFECT! Y in master, has outcome, and not in exclude\n",
      "\n",
      "ANALYZING PATIENT CA_BIDMC_36\n",
      "('seems like good matching', 'CA_BIDMC_36', 'bi36')\n",
      "PERFECT! Y in master, has outcome, and not in exclude\n",
      "\n",
      "ANALYZING PATIENT CA_BIDMC_37\n",
      "('seems like good matching', 'CA_BIDMC_37', 'bi37')\n",
      "PERFECT! Y in master, has outcome, and not in exclude\n",
      "\n",
      "ANALYZING PATIENT CA_BIDMC_38\n",
      "('seems like good matching', 'CA_BIDMC_38', 'bi38')\n",
      "PERFECT! Y in master, has outcome, and not in exclude\n",
      "\n",
      "ANALYZING PATIENT CA_BIDMC_39\n",
      "('seems like good matching', 'CA_BIDMC_39', 'bi39')\n",
      "sid not in outcomes\n",
      "in exclude list\n",
      "\n",
      "ANALYZING PATIENT CA_BIDMC_40\n",
      "('seems like good matching', 'CA_BIDMC_40', 'bi40')\n",
      "sid not in outcomes\n",
      "in exclude list\n",
      "\n",
      "ANALYZING PATIENT CA_BIDMC_41\n",
      "('seems like good matching', 'CA_BIDMC_41', 'bi41')\n",
      "PERFECT! Y in master, has outcome, and not in exclude\n",
      "\n",
      "ANALYZING PATIENT CA_BIDMC_42\n",
      "('seems like good matching', 'CA_BIDMC_42', 'bi42')\n",
      "sid not in outcomes\n",
      "in exclude list\n",
      "\n",
      "ANALYZING PATIENT CA_BIDMC_43\n",
      "('seems like good matching', 'CA_BIDMC_43', 'bi43')\n",
      "PERFECT! Y in master, has outcome, and not in exclude\n",
      "\n",
      "ANALYZING PATIENT CA_BIDMC_44\n",
      "('seems like good matching', 'CA_BIDMC_44', 'bi44')\n",
      "PERFECT! Y in master, has outcome, and not in exclude\n",
      "\n",
      "ANALYZING PATIENT CA_BIDMC_45\n",
      "('seems like good matching', 'CA_BIDMC_45', 'bi45')\n",
      "PERFECT! Y in master, has outcome, and not in exclude\n",
      "\n",
      "ANALYZING PATIENT CA_BIDMC_46\n",
      "('seems like good matching', 'CA_BIDMC_46', 'bi46')\n",
      "PERFECT! Y in master, has outcome, and not in exclude\n",
      "\n",
      "ANALYZING PATIENT CA_BIDMC_47\n",
      "('seems like good matching', 'CA_BIDMC_47', 'bi47')\n",
      "sid not in outcomes\n",
      "in exclude list\n",
      "\n",
      "ANALYZING PATIENT CA_BIDMC_48\n",
      "('seems like good matching', 'CA_BIDMC_48', 'bi48')\n",
      "PERFECT! Y in master, has outcome, and not in exclude\n",
      "\n",
      "ANALYZING PATIENT CA_BIDMC_49\n",
      "('guess id not in master', 'CA_BIDMC_49', 'bi49')\n",
      "\n",
      "ANALYZING PATIENT CA_BIDMC_50\n",
      "('seems like good matching', 'CA_BIDMC_50', 'bi50')\n",
      "PERFECT! Y in master, has outcome, and not in exclude\n",
      "\n",
      "ANALYZING PATIENT CA_BIDMC_51\n",
      "('seems like good matching', 'CA_BIDMC_51', 'bi51')\n",
      "PERFECT! Y in master, has outcome, and not in exclude\n",
      "\n",
      "ANALYZING PATIENT CA_BIDMC_52\n",
      "('seems like good matching', 'CA_BIDMC_52', 'bi52')\n",
      "PERFECT! Y in master, has outcome, and not in exclude\n",
      "\n",
      "ANALYZING PATIENT CA_BIDMC_53\n",
      "('seems like good matching', 'CA_BIDMC_53', 'bi53')\n",
      "PERFECT! Y in master, has outcome, and not in exclude\n",
      "\n",
      "ANALYZING PATIENT CA_BIDMC_54\n",
      "('seems like good matching', 'CA_BIDMC_54', 'bi54')\n",
      "PERFECT! Y in master, has outcome, and not in exclude\n",
      "\n",
      "ANALYZING PATIENT CA_BIDMC_55\n",
      "('seems like good matching', 'CA_BIDMC_55', 'bi55')\n",
      "PERFECT! Y in master, has outcome, and not in exclude\n",
      "\n",
      "ANALYZING PATIENT CA_BIDMC_56\n",
      "('seems like good matching', 'CA_BIDMC_56', 'bi56')\n",
      "sid not in outcomes\n",
      "in exclude list\n",
      "\n",
      "ANALYZING PATIENT CA_BIDMC_57\n",
      "('seems like good matching', 'CA_BIDMC_57', 'bi57')\n",
      "PERFECT! Y in master, has outcome, and not in exclude\n",
      "\n",
      "ANALYZING PATIENT CA_BIDMC_58\n",
      "('seems like good matching', 'CA_BIDMC_58', 'bi58')\n",
      "PERFECT! Y in master, has outcome, and not in exclude\n",
      "\n",
      "ANALYZING PATIENT CA_BIDMC_59\n",
      "('guess id and patient id did not match', 'CA_BIDMC_59', 'bi59', ['bi_59_5_2_20120104_134100.edf'], ['CA_BIDMC_59_1_20120104_134059.edf'])\n",
      "\n",
      "ANALYZING PATIENT CA_BIDMC_60\n",
      "('seems like good matching', 'CA_BIDMC_60', 'bi60')\n",
      "PERFECT! Y in master, has outcome, and not in exclude\n",
      "\n",
      "ANALYZING PATIENT CA_BIDMC_61\n",
      "('seems like good matching', 'CA_BIDMC_61', 'bi61')\n",
      "PERFECT! Y in master, has outcome, and not in exclude\n",
      "\n",
      "ANALYZING PATIENT CA_BIDMC_62\n",
      "('seems like good matching', 'CA_BIDMC_62', 'bi62')\n",
      "PERFECT! Y in master, has outcome, and not in exclude\n",
      "\n",
      "ANALYZING PATIENT CA_BIDMC_63\n",
      "('seems like good matching', 'CA_BIDMC_63', 'bi63')\n",
      "sid not in outcomes\n",
      "in exclude list\n",
      "\n",
      "ANALYZING PATIENT CA_BIDMC_64\n",
      "('seems like good matching', 'CA_BIDMC_64', 'bi64')\n",
      "PERFECT! Y in master, has outcome, and not in exclude\n",
      "\n",
      "ANALYZING PATIENT CA_BIDMC_65\n",
      "('seems like good matching', 'CA_BIDMC_65', 'bi65')\n",
      "PERFECT! Y in master, has outcome, and not in exclude\n",
      "\n",
      "ANALYZING PATIENT CA_BIDMC_66\n",
      "('seems like good matching', 'CA_BIDMC_66', 'bi66')\n",
      "PERFECT! Y in master, has outcome, and not in exclude\n",
      "\n",
      "ANALYZING PATIENT CA_BIDMC_67\n",
      "('seems like good matching', 'CA_BIDMC_67', 'bi67')\n",
      "PERFECT! Y in master, has outcome, and not in exclude\n",
      "\n",
      "ANALYZING PATIENT CA_BIDMC_68\n",
      "('seems like good matching', 'CA_BIDMC_68', 'bi68')\n",
      "sid not in outcomes\n",
      "in exclude list\n",
      "\n",
      "ANALYZING PATIENT CA_BIDMC_69\n",
      "('guess id and patient id did not match', 'CA_BIDMC_69', 'bi69', ['bi_69_1_2_20140324_221150.edf', 'bi_69_2_1_20140327_070038.edf', 'bi_69_3_1_20140326_070040.edf', 'bi_69_3_2_20140326_175142.edf', 'bi_69_3_3_20140327_044245.edf', 'bi_69_4_1_20140329_113425.edf', 'bi_69_5_1_20140325_070039.edf', 'bi_69_5_2_20140325_175141.edf', 'bi_69_5_3_20140326_044244.edf', 'bi_69_1_2_20160208_185837.edf', 'bi_69_1_3_20160209_054939.edf', 'bi_69_2_1_20160212_070029.edf', 'bi_69_2_2_20160212_175131.edf', 'bi_69_3_1_20160211_070027.edf', 'bi_69_3_2_20160211_175129.edf', 'bi_69_3_3_20160212_044232.edf', 'bi_69_4_1_20160209_070028.edf', 'bi_69_4_2_20160209_175130.edf', 'bi_69_4_3_20160210_044233.edf', 'bi_69_5_1_20160210_070032.edf', 'bi_69_5_2_20160210_175134.edf', 'bi_69_5_3_20160211_044237.edf', 'bi_69_6_1_20160306_070034.edf', 'bi_69_6_2_20160306_175136.edf', 'bi_69_6_3_20160307_044239.edf', 'bi_69_7_1_20160219_070033.edf', 'bi_69_8_1_20160305_070045.edf', 'bi_69_8_2_20160305_175147.edf', 'bi_69_8_3_20160306_044250.edf', 'bi_69_9_1_20160217_070034.edf', 'bi_69_9_2_20160217_175136.edf', 'bi_69_9_3_20160218_044239.edf', 'bi_69_10_1_20160307_070034.edf', 'bi_69_11_1_20160225_070036.edf', 'bi_69_12_1_20160304_070029.edf', 'bi_69_12_2_20160304_175131.edf', 'bi_69_12_3_20160305_044234.edf', 'bi_69_13_1_20160302_174741.edf', 'bi_69_13_2_20160303_043843.edf', 'bi_69_14_1_20160303_070025.edf', 'bi_69_14_2_20160303_175127.edf', 'bi_69_14_3_20160304_044230.edf', 'bi_69_15_1_20160218_070032.edf', 'bi_69_15_2_20160218_175134.edf', 'bi_69_15_3_20160219_044237.edf', 'bi_69_16_1_20160224_154020.edf', 'bi_69_16_2_20160225_023122.edf', 'bi_69_17_1_20160216_070032.edf', 'bi_69_17_2_20160216_175134.edf', 'bi_69_17_3_20160217_044237.edf', 'bi_69_18_1_20160215_201050.edf'], ['CA_BIDMC_69_1_20140324_221145.edf', 'CA_BIDMC_69_7_20140325_070038.edf', 'CA_BIDMC_69_8_20140325_175140.edf', 'CA_BIDMC_69_9_20140326_044243.edf', 'CA_BIDMC_69_3_20140326_070039.edf', 'CA_BIDMC_69_4_20140326_175141.edf', 'CA_BIDMC_69_5_20140327_044244.edf', 'CA_BIDMC_69_2_20140327_070037.edf', 'CA_BIDMC_69_6_20140329_113423.edf'])\n",
      "\n",
      "ANALYZING PATIENT CA_BIDMC_70\n",
      "('seems like good matching', 'CA_BIDMC_70', 'bi70')\n",
      "PERFECT! Y in master, has outcome, and not in exclude\n",
      "\n",
      "ANALYZING PATIENT CA_BIDMC_71\n",
      "('seems like good matching', 'CA_BIDMC_71', 'bi71')\n",
      "PERFECT! Y in master, has outcome, and not in exclude\n",
      "\n",
      "ANALYZING PATIENT CA_BIDMC_72\n",
      "('seems like good matching', 'CA_BIDMC_72', 'bi72')\n",
      "PERFECT! Y in master, has outcome, and not in exclude\n",
      "\n",
      "ANALYZING PATIENT CA_BIDMC_73\n",
      "('seems like good matching', 'CA_BIDMC_73', 'bi73')\n",
      "PERFECT! Y in master, has outcome, and not in exclude\n",
      "\n",
      "ANALYZING PATIENT CA_BIDMC_74\n",
      "('seems like good matching', 'CA_BIDMC_74', 'bi74')\n",
      "PERFECT! Y in master, has outcome, and not in exclude\n",
      "\n",
      "ANALYZING PATIENT CA_BIDMC_75\n",
      "('seems like good matching', 'CA_BIDMC_75', 'bi75')\n",
      "PERFECT! Y in master, has outcome, and not in exclude\n",
      "\n",
      "ANALYZING PATIENT CA_BIDMC_76\n",
      "('seems like good matching', 'CA_BIDMC_76', 'bi76')\n",
      "sid not in outcomes\n",
      "in exclude list\n",
      "\n",
      "ANALYZING PATIENT CA_BIDMC_77\n",
      "('seems like good matching', 'CA_BIDMC_77', 'bi77')\n",
      "PERFECT! Y in master, has outcome, and not in exclude\n",
      "\n",
      "ANALYZING PATIENT CA_BIDMC_78\n",
      "('seems like good matching', 'CA_BIDMC_78', 'bi78')\n",
      "PERFECT! Y in master, has outcome, and not in exclude\n",
      "\n",
      "ANALYZING PATIENT CA_BIDMC_79\n",
      "('seems like good matching', 'CA_BIDMC_79', 'bi79')\n",
      "sid not in outcomes\n",
      "in exclude list\n",
      "\n",
      "ANALYZING PATIENT CA_BIDMC_80\n",
      "('seems like good matching', 'CA_BIDMC_80', 'bi80')\n",
      "PERFECT! Y in master, has outcome, and not in exclude\n",
      "\n",
      "ANALYZING PATIENT CA_BIDMC_81\n",
      "('seems like good matching', 'CA_BIDMC_81', 'bi81')\n",
      "PERFECT! Y in master, has outcome, and not in exclude\n",
      "\n",
      "ANALYZING PATIENT CA_BIDMC_82\n",
      "('seems like good matching', 'CA_BIDMC_82', 'bi82')\n",
      "PERFECT! Y in master, has outcome, and not in exclude\n",
      "\n",
      "ANALYZING PATIENT CA_BIDMC_83\n",
      "('seems like good matching', 'CA_BIDMC_83', 'bi83')\n",
      "PERFECT! Y in master, has outcome, and not in exclude\n",
      "\n",
      "ANALYZING PATIENT CA_BIDMC_84\n",
      "('seems like good matching', 'CA_BIDMC_84', 'bi84')\n",
      "PERFECT! Y in master, has outcome, and not in exclude\n",
      "\n",
      "ANALYZING PATIENT CA_BIDMC_85\n",
      "('seems like good matching', 'CA_BIDMC_85', 'bi85')\n",
      "PERFECT! Y in master, has outcome, and not in exclude\n",
      "\n",
      "ANALYZING PATIENT CA_BIDMC_86\n",
      "('seems like good matching', 'CA_BIDMC_86', 'bi86')\n",
      "sid not in outcomes\n",
      "in exclude list\n",
      "\n",
      "ANALYZING PATIENT CA_BIDMC_87\n",
      "('seems like good matching', 'CA_BIDMC_87', 'bi87')\n",
      "PERFECT! Y in master, has outcome, and not in exclude\n",
      "\n",
      "ANALYZING PATIENT CA_BIDMC_88\n",
      "('seems like good matching', 'CA_BIDMC_88', 'bi88')\n",
      "PERFECT! Y in master, has outcome, and not in exclude\n",
      "\n",
      "ANALYZING PATIENT CA_BIDMC_89\n",
      "('seems like good matching', 'CA_BIDMC_89', 'bi89')\n",
      "PERFECT! Y in master, has outcome, and not in exclude\n",
      "\n",
      "ANALYZING PATIENT CA_BIDMC_90\n",
      "('seems like good matching', 'CA_BIDMC_90', 'bi90')\n",
      "sid not in outcomes\n",
      "in exclude list\n",
      "\n",
      "ANALYZING PATIENT CA_BIDMC_91\n",
      "('seems like good matching', 'CA_BIDMC_91', 'bi91')\n",
      "PERFECT! Y in master, has outcome, and not in exclude\n",
      "\n",
      "ANALYZING PATIENT CA_BIDMC_92\n",
      "('seems like good matching', 'CA_BIDMC_92', 'bi92')\n",
      "PERFECT! Y in master, has outcome, and not in exclude\n",
      "\n",
      "ANALYZING PATIENT CA_BIDMC_93\n",
      "('seems like good matching', 'CA_BIDMC_93', 'bi93')\n",
      "PERFECT! Y in master, has outcome, and not in exclude\n",
      "\n",
      "ANALYZING PATIENT CA_BIDMC_94\n",
      "('seems like good matching', 'CA_BIDMC_94', 'bi94')\n",
      "sid not in outcomes\n",
      "in exclude list\n",
      "\n",
      "ANALYZING PATIENT CA_BIDMC_95\n",
      "('seems like good matching', 'CA_BIDMC_95', 'bi95')\n",
      "PERFECT! Y in master, has outcome, and not in exclude\n",
      "\n",
      "ANALYZING PATIENT CA_BIDMC_96\n",
      "('seems like good matching', 'CA_BIDMC_96', 'bi96')\n",
      "PERFECT! Y in master, has outcome, and not in exclude\n",
      "\n",
      "ANALYZING PATIENT CA_BIDMC_97\n",
      "('seems like good matching', 'CA_BIDMC_97', 'bi97')\n",
      "PERFECT! Y in master, has outcome, and not in exclude\n",
      "\n",
      "ANALYZING PATIENT CA_BIDMC_98\n",
      "('seems like good matching', 'CA_BIDMC_98', 'bi98')\n",
      "PERFECT! Y in master, has outcome, and not in exclude\n",
      "\n",
      "ANALYZING PATIENT CA_BIDMC_99\n",
      "('seems like good matching', 'CA_BIDMC_99', 'bi99')\n",
      "PERFECT! Y in master, has outcome, and not in exclude\n",
      "\n",
      "ANALYZING PATIENT CA_BIDMC_100\n",
      "('guess id not in master', 'CA_BIDMC_100', 'bi100')\n",
      "\n",
      "ANALYZING PATIENT CA_BIDMC_101\n",
      "('seems like good matching', 'CA_BIDMC_101', 'bi101')\n",
      "PERFECT! Y in master, has outcome, and not in exclude\n",
      "\n",
      "ANALYZING PATIENT CA_BIDMC_102\n",
      "('seems like good matching', 'CA_BIDMC_102', 'bi102')\n",
      "PERFECT! Y in master, has outcome, and not in exclude\n",
      "\n",
      "ANALYZING PATIENT CA_BIDMC_103\n",
      "('seems like good matching', 'CA_BIDMC_103', 'bi103')\n",
      "PERFECT! Y in master, has outcome, and not in exclude\n",
      "\n",
      "ANALYZING PATIENT CA_BIDMC_104\n",
      "('seems like good matching', 'CA_BIDMC_104', 'bi104')\n",
      "PERFECT! Y in master, has outcome, and not in exclude\n",
      "\n",
      "ANALYZING PATIENT CA_BIDMC_105\n",
      "('seems like good matching', 'CA_BIDMC_105', 'bi105')\n",
      "PERFECT! Y in master, has outcome, and not in exclude\n",
      "\n",
      "ANALYZING PATIENT CA_BIDMC_106\n",
      "('seems like good matching', 'CA_BIDMC_106', 'bi106')\n",
      "PERFECT! Y in master, has outcome, and not in exclude\n",
      "\n",
      "ANALYZING PATIENT CA_BIDMC_107\n",
      "('seems like good matching', 'CA_BIDMC_107', 'bi107')\n",
      "PERFECT! Y in master, has outcome, and not in exclude\n",
      "\n",
      "ANALYZING PATIENT CA_BIDMC_108\n",
      "('seems like good matching', 'CA_BIDMC_108', 'bi108')\n",
      "PERFECT! Y in master, has outcome, and not in exclude\n",
      "\n",
      "ANALYZING PATIENT CA_BIDMC_109\n",
      "('guess id not in master', 'CA_BIDMC_109', 'bi109')\n",
      "\n",
      "ANALYZING PATIENT CA_BIDMC_110\n",
      "('seems like good matching', 'CA_BIDMC_110', 'bi110')\n",
      "sid not in outcomes\n",
      "in exclude list\n",
      "\n",
      "ANALYZING PATIENT CA_BIDMC_111\n",
      "('seems like good matching', 'CA_BIDMC_111', 'bi111')\n",
      "PERFECT! Y in master, has outcome, and not in exclude\n",
      "\n",
      "ANALYZING PATIENT CA_BIDMC_112\n",
      "('seems like good matching', 'CA_BIDMC_112', 'bi112')\n",
      "PERFECT! Y in master, has outcome, and not in exclude\n",
      "\n",
      "ANALYZING PATIENT CA_MGH_sid1\n",
      "('seems like good matching', 'CA_MGH_sid1', 'mgh1')\n",
      "PERFECT! Y in master, has outcome, and not in exclude\n",
      "\n",
      "ANALYZING PATIENT CA_MGH_sid2\n",
      "('seems like good matching', 'CA_MGH_sid2', 'mgh2')\n",
      "sid not in outcomes\n",
      "in exclude list\n",
      "\n",
      "ANALYZING PATIENT CA_MGH_sid3\n",
      "('seems like good matching', 'CA_MGH_sid3', 'mgh3')\n",
      "PERFECT! Y in master, has outcome, and not in exclude\n",
      "\n",
      "ANALYZING PATIENT CA_MGH_sid4\n",
      "('guess id and patient id did not match', 'CA_MGH_sid4', 'mgh4', ['mgh_4_1_0_20120721_101842.edf', 'mgh_4_4_0_20120721_111819.edf', 'mgh_4_4_1_20120721_220921.edf', 'mgh_4_4_2_20120722_090024.edf'], ['CA_MGH_sid4_01_20120721_101841.edf'])\n",
      "\n",
      "ANALYZING PATIENT CA_MGH_sid5\n",
      "('seems like good matching', 'CA_MGH_sid5', 'mgh5')\n",
      "PERFECT! Y in master, has outcome, and not in exclude\n",
      "\n",
      "ANALYZING PATIENT CA_MGH_sid6\n",
      "('seems like good matching', 'CA_MGH_sid6', 'mgh6')\n",
      "PERFECT! Y in master, has outcome, and not in exclude\n",
      "\n",
      "ANALYZING PATIENT CA_MGH_sid7\n",
      "('seems like good matching', 'CA_MGH_sid7', 'mgh7')\n",
      "PERFECT! Y in master, has outcome, and not in exclude\n",
      "\n",
      "ANALYZING PATIENT CA_MGH_sid8\n",
      "('seems like good matching', 'CA_MGH_sid8', 'mgh8')\n",
      "PERFECT! Y in master, has outcome, and not in exclude\n",
      "\n",
      "ANALYZING PATIENT CA_MGH_sid9\n",
      "('seems like good matching', 'CA_MGH_sid9', 'mgh9')\n",
      "sid not in outcomes\n",
      "in exclude list\n",
      "\n",
      "ANALYZING PATIENT CA_MGH_sid10\n",
      "('seems like good matching', 'CA_MGH_sid10', 'mgh10')\n",
      "PERFECT! Y in master, has outcome, and not in exclude\n",
      "\n",
      "ANALYZING PATIENT CA_MGH_sid11\n",
      "('seems like good matching', 'CA_MGH_sid11', 'mgh11')\n",
      "PERFECT! Y in master, has outcome, and not in exclude\n",
      "\n",
      "ANALYZING PATIENT CA_MGH_sid12\n",
      "('seems like good matching', 'CA_MGH_sid12', 'mgh12')\n",
      "PERFECT! Y in master, has outcome, and not in exclude\n",
      "\n",
      "ANALYZING PATIENT CA_MGH_sid13\n"
     ]
    },
    {
     "ename": "AttributeError",
     "evalue": "'NoneType' object has no attribute 'group'",
     "output_type": "error",
     "traceback": [
      "\u001b[0;31m---------------------------------------------------------------------------\u001b[0m",
      "\u001b[0;31mAttributeError\u001b[0m                            Traceback (most recent call last)",
      "\u001b[0;32m<ipython-input-152-ab5543370b8b>\u001b[0m in \u001b[0;36m<module>\u001b[0;34m()\u001b[0m\n\u001b[1;32m      8\u001b[0m         \u001b[0mour_edfs\u001b[0m \u001b[0;34m=\u001b[0m \u001b[0mpatient_to_edfs\u001b[0m\u001b[0;34m[\u001b[0m\u001b[0mpatient\u001b[0m\u001b[0;34m]\u001b[0m\u001b[0;34m\u001b[0m\u001b[0m\n\u001b[1;32m      9\u001b[0m         if ((patient, guess_id) in our_patient_to_guess_id_exceptions or \n\u001b[0;32m---> 10\u001b[0;31m             seem_similar(master_edfs, our_edfs)):\n\u001b[0m\u001b[1;32m     11\u001b[0m             \u001b[0;32mprint\u001b[0m\u001b[0;34m(\u001b[0m\u001b[0;34m'seems like good matching'\u001b[0m\u001b[0;34m,\u001b[0m \u001b[0mpatient\u001b[0m\u001b[0;34m,\u001b[0m \u001b[0mguess_id\u001b[0m\u001b[0;34m)\u001b[0m\u001b[0;34m\u001b[0m\u001b[0m\n\u001b[1;32m     12\u001b[0m             \u001b[0msid\u001b[0m \u001b[0;34m=\u001b[0m \u001b[0mguess_id\u001b[0m\u001b[0;34m\u001b[0m\u001b[0m\n",
      "\u001b[0;32m<ipython-input-146-d72e474c8fdf>\u001b[0m in \u001b[0;36mseem_similar\u001b[0;34m(master_edfs, our_edfs, vb)\u001b[0m\n\u001b[1;32m      5\u001b[0m         \u001b[0;32mreturn\u001b[0m \u001b[0mFalse\u001b[0m\u001b[0;34m\u001b[0m\u001b[0m\n\u001b[1;32m      6\u001b[0m     \u001b[0mnum_not_matching\u001b[0m \u001b[0;34m=\u001b[0m \u001b[0;36m0\u001b[0m\u001b[0;34m\u001b[0m\u001b[0m\n\u001b[0;32m----> 7\u001b[0;31m     \u001b[0mmaster_timestamps\u001b[0m \u001b[0;34m=\u001b[0m \u001b[0;34m[\u001b[0m\u001b[0mextract_and_underscore_timestamp\u001b[0m\u001b[0;34m(\u001b[0m\u001b[0mmaster_edf\u001b[0m\u001b[0;34m)\u001b[0m \u001b[0;32mfor\u001b[0m \u001b[0mmaster_edf\u001b[0m \u001b[0;32min\u001b[0m \u001b[0mmaster_edfs\u001b[0m\u001b[0;34m]\u001b[0m\u001b[0;34m\u001b[0m\u001b[0m\n\u001b[0m\u001b[1;32m      8\u001b[0m     \u001b[0mmaster_timestamps_sans_last_two_digits\u001b[0m \u001b[0;34m=\u001b[0m \u001b[0;34m[\u001b[0m\u001b[0mts\u001b[0m\u001b[0;34m[\u001b[0m\u001b[0;34m:\u001b[0m\u001b[0;34m-\u001b[0m\u001b[0;36m2\u001b[0m\u001b[0;34m]\u001b[0m \u001b[0;32mfor\u001b[0m \u001b[0mts\u001b[0m \u001b[0;32min\u001b[0m \u001b[0mmaster_timestamps\u001b[0m\u001b[0;34m]\u001b[0m\u001b[0;34m\u001b[0m\u001b[0m\n\u001b[1;32m      9\u001b[0m     \u001b[0;32mfor\u001b[0m \u001b[0mour_edf\u001b[0m \u001b[0;32min\u001b[0m \u001b[0mour_edfs\u001b[0m\u001b[0;34m:\u001b[0m\u001b[0;34m\u001b[0m\u001b[0m\n",
      "\u001b[0;32m<ipython-input-130-135e45a6b061>\u001b[0m in \u001b[0;36mextract_and_underscore_timestamp\u001b[0;34m(our_edf_name)\u001b[0m\n\u001b[1;32m      3\u001b[0m     \u001b[0;31m# if uses T instead of '_', as with bwh and ynh, return with '_'\u001b[0m\u001b[0;34m\u001b[0m\u001b[0;34m\u001b[0m\u001b[0m\n\u001b[1;32m      4\u001b[0m     \u001b[0mmatch_obj\u001b[0m \u001b[0;34m=\u001b[0m \u001b[0mre\u001b[0m\u001b[0;34m.\u001b[0m\u001b[0msearch\u001b[0m\u001b[0;34m(\u001b[0m\u001b[0;34m'_(\\d+(_|T)\\d+).edf'\u001b[0m\u001b[0;34m,\u001b[0m \u001b[0mour_edf_name\u001b[0m\u001b[0;34m)\u001b[0m\u001b[0;34m\u001b[0m\u001b[0m\n\u001b[0;32m----> 5\u001b[0;31m     \u001b[0mts\u001b[0m \u001b[0;34m=\u001b[0m \u001b[0mmatch_obj\u001b[0m\u001b[0;34m.\u001b[0m\u001b[0mgroup\u001b[0m\u001b[0;34m(\u001b[0m\u001b[0;36m1\u001b[0m\u001b[0;34m)\u001b[0m\u001b[0;34m\u001b[0m\u001b[0m\n\u001b[0m\u001b[1;32m      6\u001b[0m     \u001b[0mts\u001b[0m \u001b[0;34m=\u001b[0m \u001b[0mts\u001b[0m\u001b[0;34m.\u001b[0m\u001b[0mreplace\u001b[0m\u001b[0;34m(\u001b[0m\u001b[0;34m'T'\u001b[0m\u001b[0;34m,\u001b[0m \u001b[0;34m'_'\u001b[0m\u001b[0;34m)\u001b[0m\u001b[0;34m\u001b[0m\u001b[0m\n\u001b[1;32m      7\u001b[0m     \u001b[0mchunks\u001b[0m \u001b[0;34m=\u001b[0m \u001b[0mts\u001b[0m\u001b[0;34m.\u001b[0m\u001b[0msplit\u001b[0m\u001b[0;34m(\u001b[0m\u001b[0;34m'_'\u001b[0m\u001b[0;34m)\u001b[0m\u001b[0;34m\u001b[0m\u001b[0m\n",
      "\u001b[0;31mAttributeError\u001b[0m: 'NoneType' object has no attribute 'group'"
     ]
    }
   ],
   "source": [
    "for patient in our_patients:\n",
    "    print('\\nANALYZING PATIENT {}'.format(patient))\n",
    "    guess_id = guess_corresponding_id(patient)\n",
    "    hosp, id_ = utils.parse_patient_name(patient)\n",
    "    if guess_id in master_patient_names:\n",
    "        yn = sid_to_yn[guess_id]\n",
    "        master_edfs = sid_to_edfs[guess_id]\n",
    "        our_edfs = patient_to_edfs[patient]\n",
    "        if ((patient, guess_id) in our_patient_to_guess_id_exceptions or \n",
    "            seem_similar(master_edfs, our_edfs)):\n",
    "            print('seems like good matching', patient, guess_id)\n",
    "            sid = guess_id\n",
    "            if yn=='Y' and sid in outcomes_patient_names and sid not in exclude_patient_names:\n",
    "                print('PERFECT! Y in master, has outcome, and not in exclude')\n",
    "            else:\n",
    "                if yn!='N':\n",
    "                    print('YN={}'.format(yn))\n",
    "                if sid not in outcomes_patient_names:\n",
    "                    print('sid not in outcomes')\n",
    "                if sid in exclude_patient_names:\n",
    "                    print('in exclude list')\n",
    "        else:\n",
    "            print('guess id and patient id did not match', patient, guess_id, master_edfs, our_edfs)\n",
    "            # since no match, we cannot say if patient is excluded, has outcome, etc.\n",
    "            \n",
    "    else:\n",
    "        print('guess id not in master', patient, guess_id)\n",
    "        # since no match, we cannot say if patient is excluded, has outcome, etc.\n",
    "        # but maybe it is a skipped one in master because it is skipped in outcome?"
   ]
  },
  {
   "cell_type": "code",
   "execution_count": null,
   "metadata": {
    "collapsed": true
   },
   "outputs": [],
   "source": [
    "# for patient in our_patients:\n",
    "#     standardized = standardize_patient_name(patient)\n",
    "#     if standardized not in master_patient_names:\n",
    "#         if patient in mapping:\n",
    "#             if mapping[patient] not in master_patient_names:\n",
    "#                 print patient, standardized\n",
    "#         else:\n",
    "#             print patient, standardized"
   ]
  },
  {
   "cell_type": "code",
   "execution_count": null,
   "metadata": {
    "collapsed": true
   },
   "outputs": [],
   "source": [
    "bwh_lookup = lookup.loc[lookup['site'] == 'bwh']\n",
    "bwh_studyids = set(bwh_lookup['StudyID'].tolist())\n",
    "bwh_sids = set(bwh_lookup['sid'].tolist())\n",
    "bwh_sids.remove(np.nan)\n",
    "bwh_studyids.remove(np.nan)\n",
    "bwh_studyids = set(['bwh'+id_ for id_ in bwh_studyids])"
   ]
  },
  {
   "cell_type": "code",
   "execution_count": null,
   "metadata": {
    "collapsed": true
   },
   "outputs": [],
   "source": [
    "ambiguous = bwh_sids.intersection(bwh_studyids)"
   ]
  },
  {
   "cell_type": "code",
   "execution_count": null,
   "metadata": {
    "collapsed": true
   },
   "outputs": [],
   "source": [
    "# mapping = {'bwh_1605' : 'bwh211', 'bwh_1636':'bwh210', 'bwh_1639':'bwh212', 'bwh_1641':'bwh213'}\n",
    "# for patient in patients:\n",
    "#     if patient in mapping:\n",
    "#         continue\n",
    "#     name = standardize_patient_name(patient)\n",
    "#     if name not in master_patient_names:\n",
    "#         print name"
   ]
  },
  {
   "cell_type": "code",
   "execution_count": null,
   "metadata": {
    "collapsed": true
   },
   "outputs": [],
   "source": [
    "# our bwh118 -> skipped in master sids, and sid bwh118 in exclude list. \n",
    "# our bwh220 -> excluded because bwh220 and bwh220_old excluded\n",
    "# our bwh221 -> bwh sids go up to 219, and 220 is excluded. \n",
    "        # is this new sid 221, excluded, or is it old sid 221, corresponding to new bwh90?\n",
    "    "
   ]
  },
  {
   "cell_type": "code",
   "execution_count": null,
   "metadata": {
    "collapsed": true
   },
   "outputs": [],
   "source": []
  }
 ],
 "metadata": {
  "kernelspec": {
   "display_name": "Python 2",
   "language": "python",
   "name": "python2"
  },
  "language_info": {
   "codemirror_mode": {
    "name": "ipython",
    "version": 2
   },
   "file_extension": ".py",
   "mimetype": "text/x-python",
   "name": "python",
   "nbconvert_exporter": "python",
   "pygments_lexer": "ipython2",
   "version": "2.7.14"
  }
 },
 "nbformat": 4,
 "nbformat_minor": 2
}
