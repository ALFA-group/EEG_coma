{
 "cells": [
  {
   "cell_type": "code",
   "execution_count": 9,
   "metadata": {
    "collapsed": true
   },
   "outputs": [],
   "source": [
    "import os\n",
    "import sys\n",
    "import pandas as pd"
   ]
  },
  {
   "cell_type": "code",
   "execution_count": 4,
   "metadata": {
    "collapsed": true
   },
   "outputs": [],
   "source": [
    "sys.path.append('../')"
   ]
  },
  {
   "cell_type": "code",
   "execution_count": 5,
   "metadata": {
    "collapsed": true
   },
   "outputs": [],
   "source": [
    "import utils"
   ]
  },
  {
   "cell_type": "markdown",
   "metadata": {},
   "source": [
    "# Creates list of old csail ids whose corresponding new id is in the exclude list"
   ]
  },
  {
   "cell_type": "code",
   "execution_count": 6,
   "metadata": {
    "collapsed": true
   },
   "outputs": [],
   "source": [
    "excluded_new = utils.read_list('../../../patient_outcome_info/exclude_patient_sids.txt')"
   ]
  },
  {
   "cell_type": "code",
   "execution_count": 10,
   "metadata": {},
   "outputs": [],
   "source": [
    "old_to_new_map = pd.read_csv('../../../patient_outcome_info/old_to_new_id.csv')\n",
    "old_to_new_map.columns = ['old_id', 'new_id']\n",
    "old_to_new_id = utils.df_to_dict(old_to_new_map)"
   ]
  },
  {
   "cell_type": "code",
   "execution_count": 12,
   "metadata": {
    "collapsed": true
   },
   "outputs": [],
   "source": [
    "excluded_old = []\n",
    "for old in old_to_new_id:\n",
    "    if utils.convert_new_pname_to_new_sid(old_to_new_id[old]) in excluded_new:\n",
    "        excluded_old.append(old)"
   ]
  },
  {
   "cell_type": "code",
   "execution_count": 13,
   "metadata": {},
   "outputs": [
    {
     "data": {
      "text/plain": [
       "['bwh_221',\n",
       " 'bwh_220',\n",
       " 'CA_MGH_sid73',\n",
       " 'ynh_112',\n",
       " 'ynh_62',\n",
       " 'CA_MGH_sid50',\n",
       " 'CA_BIDMC_31',\n",
       " 'CA_BIDMC_33',\n",
       " 'CA_BIDMC_39',\n",
       " 'bwh_118',\n",
       " 'CA_MGH_sid19',\n",
       " 'CA_MGH_sid18',\n",
       " 'bwh_22',\n",
       " 'CA_BIDMC_63',\n",
       " 'CA_BIDMC_110',\n",
       " 'CA_BIDMC_76',\n",
       " 'CA_BIDMC_79',\n",
       " 'CA_BIDMC_90',\n",
       " 'CA_BIDMC_94',\n",
       " 'CA_MGH_sid2',\n",
       " 'CA_MGH_sid9',\n",
       " 'CA_MGH_sid119',\n",
       " 'CA_MGH_sid113',\n",
       " 'CA_MGH_sid63',\n",
       " 'CA_BIDMC_23',\n",
       " 'CA_BIDMC_20',\n",
       " 'CA_BIDMC_27',\n",
       " 'CA_BIDMC_24',\n",
       " 'CA_BIDMC_25',\n",
       " 'CA_BIDMC_7',\n",
       " 'CA_BIDMC_5',\n",
       " 'bwh_33',\n",
       " 'CA_MGH_sid144',\n",
       " 'CA_MGH_sid145',\n",
       " 'CA_MGH_sid147',\n",
       " 'CA_MGH_sid149',\n",
       " 'CA_BIDMC_68',\n",
       " 'CA_BIDMC_69',\n",
       " 'CA_BIDMC_13',\n",
       " 'CA_BIDMC_12',\n",
       " 'CA_BIDMC_11',\n",
       " 'CA_BIDMC_14',\n",
       " 'CA_BIDMC_86',\n",
       " 'bwh_70',\n",
       " 'CA_MGH_sid94',\n",
       " 'CA_MGH_sid82',\n",
       " 'CA_MGH_sid83',\n",
       " 'CA_MGH_sid100',\n",
       " 'CA_MGH_sid71',\n",
       " 'CA_BIDMC_59',\n",
       " 'CA_BIDMC_56',\n",
       " 'bwh_219',\n",
       " 'CA_MGH_sid37',\n",
       " 'CA_MGH_sid130',\n",
       " 'CA_MGH_sid132',\n",
       " 'CA_MGH_sid134',\n",
       " 'CA_MGH_sid48',\n",
       " 'CA_MGH_sid49',\n",
       " 'CA_MGH_sid163',\n",
       " 'CA_MGH_sid161',\n",
       " 'ynh_53',\n",
       " 'CA_MGH_sid182',\n",
       " 'CA_BIDMC_109',\n",
       " 'CA_BIDMC_49',\n",
       " 'CA_MGH_sid168',\n",
       " 'CA_BIDMC_47',\n",
       " 'CA_BIDMC_40',\n",
       " 'CA_BIDMC_42']"
      ]
     },
     "execution_count": 13,
     "metadata": {},
     "output_type": "execute_result"
    }
   ],
   "source": [
    "excluded_old"
   ]
  }
 ],
 "metadata": {
  "kernelspec": {
   "display_name": "Python 2",
   "language": "python",
   "name": "python2"
  },
  "language_info": {
   "codemirror_mode": {
    "name": "ipython",
    "version": 2
   },
   "file_extension": ".py",
   "mimetype": "text/x-python",
   "name": "python",
   "nbconvert_exporter": "python",
   "pygments_lexer": "ipython2",
   "version": "2.7.14"
  }
 },
 "nbformat": 4,
 "nbformat_minor": 2
}
