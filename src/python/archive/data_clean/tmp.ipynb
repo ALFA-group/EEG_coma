{
 "cells": [
  {
   "cell_type": "code",
   "execution_count": 11,
   "metadata": {
    "collapsed": true
   },
   "outputs": [],
   "source": [
    "import sys\n",
    "sys.path.append('../../')\n",
    "sys.path.append('..')\n",
    "import utils\n",
    "import pandas as pd\n",
    "import os"
   ]
  },
  {
   "cell_type": "code",
   "execution_count": 2,
   "metadata": {
    "collapsed": true
   },
   "outputs": [],
   "source": [
    "a = '../../../patient_outcome_info/exclude_patient_sids.txt'\n",
    "excludes = utils.read_list(a)"
   ]
  },
  {
   "cell_type": "code",
   "execution_count": 4,
   "metadata": {
    "collapsed": true
   },
   "outputs": [],
   "source": [
    "b = '../../../patient_outcome_info/old_to_new_id.csv'\n",
    "old_to_new = utils.df_to_dict(pd.read_csv(b))"
   ]
  },
  {
   "cell_type": "code",
   "execution_count": 15,
   "metadata": {
    "collapsed": true
   },
   "outputs": [],
   "source": [
    "def standardize(pt_name):\n",
    "    filename_pieces = pt_name.split('_')\n",
    "    patient_id = filename_pieces[-1]\n",
    "    if 'sid' in patient_id:\n",
    "        patient_id = patient_id.replace('sid', '')\n",
    "    hospital = ('_').join(filename_pieces[:-1])\n",
    "    if hospital == 'CA_BIDMC':\n",
    "        hospital = 'bi'\n",
    "    if hospital == 'CA_MGH':\n",
    "        hospital = 'mgh'\n",
    "    sid = '{}{}'.format(hospital, patient_id)\n",
    "    if sid in known_id_mapping:\n",
    "        return known_id_mapping[sid]\n",
    "    #if sid in self.outcome_id_mapping.index:\n",
    "    #    sid = self.outcome_id_mapping.loc[sid]['outcomes_id']\n",
    "    return sid"
   ]
  },
  {
   "cell_type": "code",
   "execution_count": 16,
   "metadata": {
    "collapsed": true
   },
   "outputs": [],
   "source": [
    "known_id_mapping = {'bwh1605':'bwh211',\n",
    "                    'bwh1636':'bwh210',\n",
    "                    'bwh1639':'bwh212',\n",
    "                    'bwh1641':'bwh213',\n",
    "                   }"
   ]
  },
  {
   "cell_type": "code",
   "execution_count": 19,
   "metadata": {
    "collapsed": true
   },
   "outputs": [],
   "source": [
    "def our_standardize(pt_name):\n",
    "    pieces = (old_to_new[pt_name]).split('_')\n",
    "    return ''.join(pieces)\n",
    "    "
   ]
  },
  {
   "cell_type": "code",
   "execution_count": 12,
   "metadata": {
    "collapsed": true
   },
   "outputs": [],
   "source": [
    "all_olds = os.listdir('/afs/csail.mit.edu/u/t/tzhan/NFS/script_output/similarity_no_clip_weird/')"
   ]
  },
  {
   "cell_type": "code",
   "execution_count": 29,
   "metadata": {},
   "outputs": [
    {
     "name": "stdout",
     "output_type": "stream",
     "text": [
      "CA_BIDMC_27 bi27 bi24\n",
      "CA_BIDMC_49 bi49 bi33\n",
      "CA_BIDMC_109 bi109 bi69\n",
      "CA_BIDMC_25 bi25 bi20\n",
      "CA_BIDMC_100 bi100 bi32\n"
     ]
    }
   ],
   "source": [
    "our_excluded = []\n",
    "their_excluded = []\n",
    "our_unexcluded, their_unexcluded = [], []\n",
    "for old in all_olds:\n",
    "    if standardize(old)!=our_standardize(old):\n",
    "        print old, standardize(old), our_standardize(old)\n",
    "    if our_standardize(old) in excludes:\n",
    "        our_excluded.append(old)\n",
    "    else:\n",
    "        our_unexcluded.append(old)\n",
    "    if standardize(old) in excludes:\n",
    "        their_excluded.append(old)\n",
    "    else:\n",
    "        their_unexcluded.append(old)"
   ]
  },
  {
   "cell_type": "code",
   "execution_count": 26,
   "metadata": {},
   "outputs": [
    {
     "data": {
      "text/plain": [
       "(68, 64)"
      ]
     },
     "execution_count": 26,
     "metadata": {},
     "output_type": "execute_result"
    }
   ],
   "source": [
    "len(our_excluded), len(their_excluded)"
   ]
  },
  {
   "cell_type": "code",
   "execution_count": 27,
   "metadata": {},
   "outputs": [
    {
     "data": {
      "text/plain": [
       "{'CA_BIDMC_109', 'CA_BIDMC_25', 'CA_BIDMC_27', 'CA_BIDMC_49'}"
      ]
     },
     "execution_count": 27,
     "metadata": {},
     "output_type": "execute_result"
    }
   ],
   "source": [
    "set(our_excluded) - set(their_excluded)"
   ]
  },
  {
   "cell_type": "code",
   "execution_count": 30,
   "metadata": {},
   "outputs": [
    {
     "data": {
      "text/plain": [
       "468"
      ]
     },
     "execution_count": 30,
     "metadata": {},
     "output_type": "execute_result"
    }
   ],
   "source": [
    "len(their_unexcluded)"
   ]
  },
  {
   "cell_type": "code",
   "execution_count": null,
   "metadata": {
    "collapsed": true
   },
   "outputs": [],
   "source": [
    "our_standardize()"
   ]
  },
  {
   "cell_type": "code",
   "execution_count": null,
   "metadata": {
    "collapsed": true
   },
   "outputs": [],
   "source": []
  },
  {
   "cell_type": "code",
   "execution_count": null,
   "metadata": {
    "collapsed": true
   },
   "outputs": [],
   "source": []
  }
 ],
 "metadata": {
  "kernelspec": {
   "display_name": "Python 2",
   "language": "python",
   "name": "python2"
  },
  "language_info": {
   "codemirror_mode": {
    "name": "ipython",
    "version": 2
   },
   "file_extension": ".py",
   "mimetype": "text/x-python",
   "name": "python",
   "nbconvert_exporter": "python",
   "pygments_lexer": "ipython2",
   "version": "2.7.14"
  }
 },
 "nbformat": 4,
 "nbformat_minor": 2
}
