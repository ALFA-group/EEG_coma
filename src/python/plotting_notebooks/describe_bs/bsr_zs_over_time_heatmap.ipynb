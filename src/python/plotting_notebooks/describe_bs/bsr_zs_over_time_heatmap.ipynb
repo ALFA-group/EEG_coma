{
 "cells": [
  {
   "cell_type": "code",
   "execution_count": null,
   "metadata": {
    "collapsed": true
   },
   "outputs": [],
   "source": [
    "import os\n",
    "import sys\n",
    "import pandas as pd\n",
    "import numpy as np\n",
    "import seaborn\n",
    "import matplotlib\n",
    "import matplotlib.pyplot as plt \n",
    "import scipy\n",
    "import IPython\n",
    "\n",
    "sys.path.append('../../')\n",
    "sys.path.append('../')\n",
    "\n",
    "import utils\n",
    "import readers\n",
    "from readers.describe_bs_output_reader import DescribeBsOutputReader\n",
    "from readers.patient_info import PatientInfo"
   ]
  },
  {
   "cell_type": "code",
   "execution_count": null,
   "metadata": {
    "collapsed": true
   },
   "outputs": [],
   "source": [
    "output_dir = '/afs/csail.mit.edu/u/t/tzhan/NFS/script_output/describe_bs/'\n",
    "outputReader = DescribeBsOutputReader(output_dir)\n",
    "patientInfo = PatientInfo('../../../../patient_outcome_info/')"
   ]
  },
  {
   "cell_type": "code",
   "execution_count": null,
   "metadata": {
    "collapsed": true
   },
   "outputs": [],
   "source": [
    "def get_zs_bsr_over_time_heatmap(zs_or_bsr, outcome_lambda, ds_rate, max_num_hours, plot_in_parts=False):\n",
    "    # plot_in_parts: if False, makes one plot with all patients. \n",
    "    #                if True, makes multiple plots, each sized to fit a pdf page\n",
    "    # ds_rate: rate at which to downsample. If not high enough, might have memory issues\n",
    "    # outcome_lambda: boolean function which returns whether we want to include the patient in the plot\n",
    "    # zs_or_bsr must be either 'zs' or 'bsr'\n",
    "    assert(zs_or_bsr=='bsr' or zs_or_bsr=='zs'), \"zs_or_bsr must be either 'zs' or 'bsr'\"\n",
    "    new_sids = patientInfo.get_all_sids()\n",
    "    num_samples = utils.hour_to_samples(max_num_hours)/ds_rate\n",
    "\n",
    "    sids_used = []\n",
    "    for new_sid in new_sids:\n",
    "        if patientInfo.has_good_outcome(new_sid)==-1:\n",
    "            print('sid without outcome! this is not expected! sid: {}'.format(new_sid))\n",
    "            continue\n",
    "        if not outcome_lambda(new_sid):\n",
    "            continue\n",
    "        sids_used.append(new_sid)\n",
    "    \n",
    "    zs_bsrs = np.zeros((len(sids_used), num_samples))\n",
    "    masks = np.ones((len(sids_used), num_samples))\n",
    "\n",
    "    for i, new_sid in enumerate(sids_used):\n",
    "        print(i, new_sid)\n",
    "        edfs_and_indices = patientInfo.get_edfs_and_indices(new_sid, max_num_hours=max_num_hours)\n",
    "        patient_zs_bsrs = np.zeros(utils.hour_to_samples(max_num_hours))\n",
    "        patient_masks = np.ones(utils.hour_to_samples(max_num_hours))\n",
    "        for edf_num, (edf, start_index, end_index) in enumerate(edfs_and_indices):\n",
    "            if zs_or_bsr=='bsr':\n",
    "                zs_bsr = outputReader.get_bsr(edf)\n",
    "            else:\n",
    "                zs_bsr = outputReader.get_global_zs(edf)\n",
    "            patient_zs_bsrs[start_index:end_index] = zs_bsr[:(end_index-start_index)]\n",
    "            patient_masks[start_index:end_index] = 0\n",
    "        zs_bsrs[i] = patient_zs_bsrs[::ds_rate]\n",
    "        masks[i] = patient_masks[::ds_rate]\n",
    "        IPython.display.clear_output()\n",
    "    masks = masks.astype(bool)\n",
    "    index_in_samples= np.arange(0, utils.hour_to_samples(max_num_hours), ds_rate)\n",
    "    index_in_seconds = index_in_samples/(0.0+utils.sec_to_samples(1))\n",
    "    minutes, seconds = np.divmod(index_in_seconds, 60)\n",
    "    hours, minutes = np.divmod(minutes, 60)\n",
    "    index_formatted = []\n",
    "    for i in range(len(hours)):\n",
    "        hour = int(hours[i])\n",
    "        minute = int(minutes[i])\n",
    "        time = '{}:{:02d}'.format(hour, minute)\n",
    "        index_formatted.append(time)\n",
    "    zs_bsr_df = pd.DataFrame(zs_bsrs, index=sids_used, columns=index_formatted)\n",
    "    ## can have at most 30 patients\n",
    "    if zs_or_bsr=='bsr':\n",
    "        cmap = \"YlGnBu\"\n",
    "    else:\n",
    "        cmap = \"YlGnBu_r\"\n",
    "    num_rows = zs_bsr_df.shape[0]\n",
    "    if plot_in_parts:\n",
    "        ## Make a bunch of plots, of size befitting a pdf\n",
    "        row_start_ind = 0\n",
    "        num_rows_per_plot = 46\n",
    "        plots = []\n",
    "        while row_start_ind < num_rows:\n",
    "            row_end_ind = min(row_start_ind + 45, num_rows)\n",
    "            zs_bsr_df_part = zs_bsr_df[row_start_ind:row_end_ind]\n",
    "            masks_part = masks[row_start_ind:row_end_ind, :]\n",
    "            fig, ax = plt.subplots(figsize=(6,0.5+int(0.2*zs_bsr_df_part.shape[0])))     \n",
    "            heatmap_plot = seaborn.heatmap(zs_bsr_df_part, cmap=cmap, mask=masks_part, ax=ax)\n",
    "            plots.append(heatmap_plot)\n",
    "            row_start_ind = row_end_ind\n",
    "        return plots\n",
    "    else:\n",
    "        fig, ax = plt.subplots(figsize=(6,0.5+0.18*zs_bsr_df.shape[0]))        \n",
    "        heatmap_plot = seaborn.heatmap(zs_bsr_df, cmap=cmap, mask=masks, ax=ax)\n",
    "        return heatmap_plot"
   ]
  },
  {
   "cell_type": "code",
   "execution_count": null,
   "metadata": {
    "collapsed": true
   },
   "outputs": [],
   "source": [
    "def save_heatmap_plot_parts(plots, output_file_name):\n",
    "    for i, plot in enumerate(plots):\n",
    "        plot.figure.savefig('{}_part{}.png'.format(output_file_name, i))"
   ]
  },
  {
   "cell_type": "markdown",
   "metadata": {},
   "source": [
    "### Define the parameters"
   ]
  },
  {
   "cell_type": "code",
   "execution_count": null,
   "metadata": {
    "collapsed": true
   },
   "outputs": [],
   "source": [
    "# rate at which to downsample\n",
    "ds_rate = 100\n",
    "# max number of hours to plot\n",
    "max_num_hours = 72\n",
    "# if plot_in_parts is True, will break up the plot into multiple standard-page-sized plots\n",
    "# if plot_in_parts is False, will create only one plot contianing all the patients\n",
    "plot_in_parts = True\n",
    "# zs_bsr is either 'zs' or 'bsr', depending on which one you want to plot\n",
    "zs_bsr = 'bsr'\n",
    "# if outcome_target is 'good', makes the plot for only patients with good outcome\n",
    "# if outcome_target is 'bad', makes the plot for only patients with bad outcome\n",
    "outcome_target = 'good'"
   ]
  },
  {
   "cell_type": "markdown",
   "metadata": {},
   "source": [
    "### Create the plot"
   ]
  },
  {
   "cell_type": "code",
   "execution_count": null,
   "metadata": {
    "collapsed": true,
    "scrolled": true
   },
   "outputs": [],
   "source": [
    "outcome_lambda = patientInfo.has_good_outcome\n",
    "heatmap_plot = get_zs_bsr_over_time_heatmap(zs_bsr, outcome_lambda = outcome_lambda, \n",
    "                                        ds_rate=ds_rate, max_num_hours=max_num_hours, plot_in_parts=plot_in_parts)\n",
    "save_heatmap_plot_parts(heatmap_plot, '{}_{}_ds{}'.format(outcome_target, zs_bsr, ds_rate))"
   ]
  }
 ],
 "metadata": {
  "kernelspec": {
   "display_name": "Python 2",
   "language": "python",
   "name": "python2"
  },
  "language_info": {
   "codemirror_mode": {
    "name": "ipython",
    "version": 2
   },
   "file_extension": ".py",
   "mimetype": "text/x-python",
   "name": "python",
   "nbconvert_exporter": "python",
   "pygments_lexer": "ipython2",
   "version": "2.7.14"
  }
 },
 "nbformat": 4,
 "nbformat_minor": 2
}
