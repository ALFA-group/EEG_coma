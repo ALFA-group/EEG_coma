{
 "cells": [
  {
   "cell_type": "code",
   "execution_count": 11,
   "metadata": {
    "collapsed": true
   },
   "outputs": [],
   "source": [
    "import os\n",
    "import sys\n",
    "import pandas as pd\n",
    "import numpy as np\n",
    "import seaborn\n",
    "import matplotlib\n",
    "import matplotlib.pyplot as plt \n",
    "import scipy\n",
    "import IPython\n",
    "\n",
    "sys.path.append('../../')\n",
    "sys.path.append('../')\n",
    "\n",
    "import utils\n",
    "import readers\n",
    "from readers.describe_bs_output_reader import DescribeBsOutputReader\n",
    "from readers.patient_info import PatientInfo"
   ]
  },
  {
   "cell_type": "markdown",
   "metadata": {},
   "source": [
    "### Edit the following variables for your own machine"
   ]
  },
  {
   "cell_type": "code",
   "execution_count": 12,
   "metadata": {
    "collapsed": true
   },
   "outputs": [],
   "source": [
    "nfs_directory_path_on_virtual_machine = '/afs/csail.mit.edu/u/t/tzhan/NFS/'\n",
    "virtual_machine_username = 'tzhan'\n",
    "virtual_machine_ip_address = '128.52.179.213'"
   ]
  },
  {
   "cell_type": "markdown",
   "metadata": {},
   "source": [
    "### Do not edit the following variables/function definitions"
   ]
  },
  {
   "cell_type": "code",
   "execution_count": 13,
   "metadata": {},
   "outputs": [],
   "source": [
    "output_dir = os.path.join(nfs_directory_path_on_virtual_machine, 'script_output', 'describe_bs')\n",
    "outputReader = DescribeBsOutputReader(output_dir)\n",
    "patientInfo = PatientInfo('../../../../patient_outcome_info/')"
   ]
  },
  {
   "cell_type": "code",
   "execution_count": 14,
   "metadata": {
    "collapsed": true
   },
   "outputs": [],
   "source": [
    "def get_zs_bsr_over_time_df_pt(zs_or_bsr, new_sid, ds_rate, max_num_hours):\n",
    "    # ds_rate: rate at which to downsample. If not high enough, might have memory issues\n",
    "    # outcome_lambda: boolean function which returns whether we want to include the patient in the plot\n",
    "    # zs_or_bsr must be either 'zs' or 'bsr'\n",
    "    assert(zs_or_bsr=='bsr' or zs_or_bsr=='zs'), \"zs_or_bsr must be either 'zs' or 'bsr'\"\n",
    "    num_samples = utils.hour_to_samples(max_num_hours)/ds_rate\n",
    "    \n",
    "    edfs_and_indices = patientInfo.get_edfs_and_indices(new_sid, max_num_hours=max_num_hours)\n",
    "    patient_zs_bsrs = np.zeros(utils.hour_to_samples(max_num_hours))\n",
    "    patient_masks = np.ones(utils.hour_to_samples(max_num_hours))\n",
    "    for edf_num, (edf, start_index, end_index) in enumerate(edfs_and_indices):\n",
    "        if zs_or_bsr=='bsr':\n",
    "            zs_bsr = outputReader.get_bsr(edf)\n",
    "        else:\n",
    "            zs_bsr = outputReader.get_global_zs(edf)\n",
    "        patient_zs_bsrs[start_index:end_index] = zs_bsr[:(end_index-start_index)]\n",
    "        patient_masks[start_index:end_index] = 0\n",
    "    zs_bsrs = patient_zs_bsrs[::ds_rate]\n",
    "    masks = patient_masks[::ds_rate]\n",
    "        \n",
    "    masks = masks.astype(bool)\n",
    "    index_in_samples= np.arange(0, utils.hour_to_samples(max_num_hours), ds_rate)\n",
    "    index_in_seconds = index_in_samples/(0.0+utils.sec_to_samples(1))\n",
    "    minutes, seconds = np.divmod(index_in_seconds, 60)\n",
    "    hours, minutes = np.divmod(minutes, 60)\n",
    "    index_formatted = []\n",
    "    for i in range(len(hours)):\n",
    "        hour = int(hours[i])\n",
    "        minute = int(minutes[i])\n",
    "        time = '{}:{:02d}'.format(hour, minute)\n",
    "        index_formatted.append(time)\n",
    "    zs_bsrs = zs_bsrs.reshape((1,len(zs_bsrs)))\n",
    "    masks = masks.reshape((1,len(masks)))\n",
    "    zs_bsr_df = pd.DataFrame(zs_bsrs, index=[new_sid], columns=index_formatted)\n",
    "    return zs_bsr_df, masks"
   ]
  },
  {
   "cell_type": "code",
   "execution_count": 37,
   "metadata": {
    "collapsed": true
   },
   "outputs": [],
   "source": [
    "def create_heatmap(zs_bsr_df, masks, zs_or_bsr):\n",
    "    if zs_or_bsr=='bsr':\n",
    "        cmap = \"YlGnBu\"\n",
    "    else:\n",
    "        cmap = \"YlGnBu_r\"\n",
    "    num_rows = zs_bsr_df.shape[0]\n",
    "    fig, ax = plt.subplots(figsize=(20,2))        \n",
    "    heatmap_plot = seaborn.heatmap(zs_bsr_df, cmap=cmap, mask=masks, ax=ax)\n",
    "    plt.show()\n",
    "    return heatmap_plot"
   ]
  },
  {
   "cell_type": "code",
   "execution_count": 16,
   "metadata": {
    "collapsed": true
   },
   "outputs": [],
   "source": [
    "def zoom_df(df, masks, start_time_string, end_time_string):\n",
    "    # start_time_string: string formatted like \"0:00\", indicating start time\n",
    "    # end_time_string: string formatted like \"0:00\", indicating end time\n",
    "    df = zs_bsr_df\n",
    "    start_hr, start_min = start_time_string.split(':')\n",
    "    end_hr, end_min = end_time_string.split(':')\n",
    "    start_hr, start_min = int(start_hr), int(start_min)\n",
    "    end_hr, end_min = int(end_hr), int(end_min)\n",
    "    current_hr, current_min = start_hr, start_min\n",
    "    times = []\n",
    "    while current_hr < end_hr or (current_hr==end_hr and current_min <= end_min):\n",
    "        times.append((current_hr, current_min))\n",
    "        if current_min==59:\n",
    "            current_hr+=1\n",
    "            current_min = 0\n",
    "        else:\n",
    "            current_min+=1\n",
    "    times = ['{:02}:{:02}'.format(hr, m) for (hr, m) in times]\n",
    "    df_zoomed = df[times]\n",
    "\n",
    "    start_index = list(zs_bsr_df.columns).index(start_time_string)\n",
    "    end_index = list(zs_bsr_df.columns).index(end_time_string)+60*2\n",
    "    masks_zoomed  = masks[0][start_index:end_index]\n",
    "    masks_zoomed = masks_zoomed.reshape((1, len(masks_zoomed)))\n",
    "    return df_zoomed, masks_zoomed"
   ]
  },
  {
   "cell_type": "code",
   "execution_count": 44,
   "metadata": {
    "collapsed": true
   },
   "outputs": [],
   "source": [
    "def convert_time_to_edf_and_index(new_sid, time_string, max_num_hours=72):\n",
    "    hr, minute = time_string.split(':')\n",
    "    hr, minute = int(hr), int(minute)\n",
    "    num_minutes_from_start = hr * 60 + minute\n",
    "    \n",
    "    edfs_and_indices = patientInfo.get_edfs_and_indices(new_sid, max_num_hours=max_num_hours)\n",
    "\n",
    "    index_in_undownsampled_merged = utils.min_to_samples(num_minutes_from_start)\n",
    "    source_edf = None\n",
    "    for (edf, edf_start_index, edf_end_index) in edfs_and_indices:\n",
    "        if edf_start_index <= index_in_undownsampled_merged and index_in_undownsampled_merged < edf_end_index:\n",
    "            source_edf = edf\n",
    "            source_edf_start_index = edf_start_index\n",
    "    if source_edf is None:\n",
    "        return None, -1\n",
    "    return source_edf, index_in_undownsampled_merged - source_edf_start_index"
   ]
  },
  {
   "cell_type": "markdown",
   "metadata": {},
   "source": [
    "### Define the parameters"
   ]
  },
  {
   "cell_type": "code",
   "execution_count": 18,
   "metadata": {
    "collapsed": true
   },
   "outputs": [],
   "source": [
    "# rate at which to downsample\n",
    "ds_rate = 100\n",
    "# max number of hours to plot\n",
    "max_num_hours = 72\n",
    "# zs_bsr is either 'zs' or 'bsr', depending on which one you want to plot\n",
    "zs_or_bsr = 'bsr'\n",
    "# if outcome_target is 'good', makes the plot for only patients with good outcome\n",
    "# if outcome_target is 'bad', makes the plot for only patients with bad outcome\n",
    "outcome_target = 'good'"
   ]
  },
  {
   "cell_type": "markdown",
   "metadata": {},
   "source": [
    "### Create the 72 hour plot"
   ]
  },
  {
   "cell_type": "code",
   "execution_count": 19,
   "metadata": {},
   "outputs": [],
   "source": [
    "new_sid = 'ynh117'\n",
    "zs_bsr_df, masks = get_zs_bsr_over_time_df_pt(zs_or_bsr, new_sid = new_sid, \n",
    "                                        ds_rate=ds_rate, max_num_hours=max_num_hours)"
   ]
  },
  {
   "cell_type": "code",
   "execution_count": 20,
   "metadata": {
    "scrolled": true
   },
   "outputs": [
    {
     "data": {
      "image/png": "[encoded data removed]",
      "text/plain": [
       "<matplotlib.figure.Figure at 0x7f4224e955d0>"
      ]
     },
     "metadata": {},
     "output_type": "display_data"
    }
   ],
   "source": [
    "create_heatmap(zs_bsr_df, masks, zs_or_bsr)"
   ]
  },
  {
   "cell_type": "markdown",
   "metadata": {},
   "source": [
    "### Zoom into the plot\n",
    "#### adjust the time string below to zoom into desired potions"
   ]
  },
  {
   "cell_type": "code",
   "execution_count": 35,
   "metadata": {
    "scrolled": true
   },
   "outputs": [
    {
     "data": {
      "image/png": "[encoded data removed]",
      "text/plain": [
       "<matplotlib.figure.Figure at 0x7f4200f99f10>"
      ]
     },
     "metadata": {},
     "output_type": "display_data"
    }
   ],
   "source": [
    "## Adjust the time to zoom into the desired portions of the eeg\n",
    "df_zoomed, masks_zoomed = zoom_df(zs_bsr_df, masks, '26:40', '28:17')\n",
    "create_heatmap(df_zoomed, masks_zoomed, zs_or_bsr)"
   ]
  },
  {
   "cell_type": "code",
   "execution_count": 38,
   "metadata": {},
   "outputs": [
    {
     "data": {
      "image/png": "[encoded data removed]",
      "text/plain": [
       "<matplotlib.figure.Figure at 0x7f4200d83d10>"
      ]
     },
     "metadata": {},
     "output_type": "display_data"
    },
    {
     "data": {
      "text/plain": [
       "<matplotlib.axes._subplots.AxesSubplot at 0x7f4200fa3250>"
      ]
     },
     "execution_count": 38,
     "metadata": {},
     "output_type": "execute_result"
    }
   ],
   "source": [
    "df_zoomed, masks_zoomed = zoom_df(zs_bsr_df, masks, '27:29', '28:05')\n",
    "create_heatmap(df_zoomed, masks_zoomed, zs_or_bsr)"
   ]
  },
  {
   "cell_type": "markdown",
   "metadata": {},
   "source": [
    "### How to investigate a specific point in the eeg?"
   ]
  },
  {
   "cell_type": "code",
   "execution_count": 50,
   "metadata": {},
   "outputs": [
    {
     "name": "stdout",
     "output_type": "stream",
     "text": [
      "To investigate patient ynh117 at time 28:03, follow these instructions:\n",
      "\n",
      "1. On your local machine, in the command terminal, cd into the folder into which you want to store the patient's edf\n",
      "2. Execute the following command to copy the edf from the virtual machine into your current local folder:\n",
      "\tscp tzhan@128.52.179.213:/afs/csail.mit.edu/u/t/tzhan/NFS/EEG-dataset/outboxYALE/Batch1/ynh_117_2_0_20130827T035815.edf .\n",
      "3. In matlab, run the interactive_vis_bs_detection:\n",
      "\tChange file_path to the path to the edf you just copied. \n",
      "\tCHANGE start_index TO 4800 \n",
      "\tNote: If you are replotting the same edf at a different start index, use replot_interactive_vis_bs_detection to save time\n"
     ]
    }
   ],
   "source": [
    "time_of_interest = '28:03'\n",
    "edf, edf_index = convert_time_to_edf_and_index(new_sid, time_of_interest)\n",
    "if edf is None:\n",
    "    print Exception(\"This time corresponds to a gap in recording (no edf for this time)\")\n",
    "else:\n",
    "    if edf[-4:]!='.edf':\n",
    "        edf = edf + '.edf'\n",
    "    for dir_name, subdirs, files in os.walk(os.path.join(nfs_directory_path_on_virtual_machine, 'EEG-dataset/')):\n",
    "        if edf in files:\n",
    "            edf_path = os.path.join(dir_name, edf)\n",
    "    print 'To investigate patient {} at time {}, follow these instructions:\\n'.format(new_sid, time_of_interest)\n",
    "    print \"1. On your local machine, in the command terminal, cd into the folder into which you want to store the patient's edf\"\n",
    "    print \"2. Execute the following command to copy the edf from the virtual machine into your current local folder:\"\n",
    "    print '\\tscp {}@{}:{} .'.format(virtual_machine_username, virtual_machine_ip_address, edf_path)\n",
    "    print \"3. In matlab, run the interactive_vis_bs_detection:\"\n",
    "    print \"\\tChange file_path to the path to the edf you just copied. \"\n",
    "    print \"\\tCHANGE start_index TO {} \".format(edf_index)\n",
    "    print \"\\tNote: If you are replotting the same edf at a different start index, use replot_interactive_vis_bs_detection to save time\""
   ]
  },
  {
   "cell_type": "code",
   "execution_count": null,
   "metadata": {
    "collapsed": true
   },
   "outputs": [],
   "source": []
  }
 ],
 "metadata": {
  "kernelspec": {
   "display_name": "Python 2",
   "language": "python",
   "name": "python2"
  },
  "language_info": {
   "codemirror_mode": {
    "name": "ipython",
    "version": 2
   },
   "file_extension": ".py",
   "mimetype": "text/x-python",
   "name": "python",
   "nbconvert_exporter": "python",
   "pygments_lexer": "ipython2",
   "version": "2.7.14"
  }
 },
 "nbformat": 4,
 "nbformat_minor": 2
}
