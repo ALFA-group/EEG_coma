{
 "cells": [
  {
   "cell_type": "code",
   "execution_count": null,
   "metadata": {
    "collapsed": true
   },
   "outputs": [],
   "source": [
    "import os\n",
    "import sys\n",
    "import pandas as pd\n",
    "import numpy as np\n",
    "import seaborn as sns\n",
    "import matplotlib.pyplot as plt \n",
    "import scipy\n",
    "import IPython\n",
    "import string\n",
    "import plotly\n",
    "import plotly.figure_factory\n",
    "import pickle\n",
    "\n",
    "sys.path.append('../../')\n",
    "sys.path.append('../')\n",
    "\n",
    "import utils\n",
    "import readers\n",
    "import histogram\n",
    "from histogram import describe_array, describe_arrays, describe_array_plotly\n",
    "from readers.describe_bs_output_reader import DescribeBsOutputReader\n",
    "from readers.patient_info import PatientInfo"
   ]
  },
  {
   "cell_type": "code",
   "execution_count": null,
   "metadata": {
    "collapsed": true
   },
   "outputs": [],
   "source": [
    "USE_PLOTLY = False"
   ]
  },
  {
   "cell_type": "code",
   "execution_count": null,
   "metadata": {
    "collapsed": true
   },
   "outputs": [],
   "source": [
    "output_dir = '/afs/csail.mit.edu/u/t/tzhan/NFS/script_output/describe_bs/'\n",
    "outputReader = DescribeBsOutputReader(output_dir)\n",
    "patientInfo = PatientInfo('../../../../patient_outcome_info/')"
   ]
  },
  {
   "cell_type": "code",
   "execution_count": null,
   "metadata": {
    "collapsed": true
   },
   "outputs": [],
   "source": [
    "sns.set(color_codes=True)\n",
    "plotly.offline.init_notebook_mode(connected=True)"
   ]
  },
  {
   "cell_type": "code",
   "execution_count": null,
   "metadata": {
    "collapsed": true
   },
   "outputs": [],
   "source": [
    "# set read_output to False if pickled, saved results exist and you want to use them.\n",
    "read_output = False"
   ]
  },
  {
   "cell_type": "code",
   "execution_count": null,
   "metadata": {
    "collapsed": true
   },
   "outputs": [],
   "source": [
    "if read_output:\n",
    "    patient_to_bs_episode_lengths = {} # dict of lists of bs episode lengths for each patient\n",
    "    patient_to_episode_to_burst_lengths = {} # dict of dicts of lists of burst lengths for each edf/episode for each patient\n",
    "    new_sids = patientInfo.get_all_sids()\n",
    "\n",
    "    for i, new_sid in enumerate(new_sids):\n",
    "        print(i, new_sid)\n",
    "        edfs_and_indices = patientInfo.get_edfs_and_indices(new_sid, max_num_hours=72)\n",
    "        patient_episode_lengths = []\n",
    "        episode_to_burst_lengths = {}\n",
    "        for (edf, _, _) in edfs_and_indices:\n",
    "            bs_episodes = outputReader.get_bs_episodes(edf)\n",
    "            for episode_indices in bs_episodes:\n",
    "                episode_start, episode_end = episode_indices\n",
    "                patient_episode_lengths.append(utils.samples_to_min(episode_end-episode_start))\n",
    "                bs_episode = bs_episodes[episode_indices]\n",
    "                bs_episode_burst_lens = [len(burst['burst_data']) for burst in bs_episode]\n",
    "                bs_episode_burst_lens = [utils.samples_to_sec(x) for x in bs_episode_burst_lens]\n",
    "                episode_identifier = '{}_{}_{}'.format(edf, episode_start, episode_end)\n",
    "                episode_to_burst_lengths[episode_identifier] = bs_episode_burst_lens\n",
    "        patient_to_bs_episode_lengths[new_sid] = patient_episode_lengths\n",
    "        patient_to_episode_to_burst_lengths[new_sid] = episode_to_burst_lengths\n",
    "        IPython.display.clear_output()\n",
    "    # save the things\n",
    "    pickle.dump(patient_to_bs_episode_lengths, open('saved_output/patient_to_bs_episode_lengths.pkl', 'w'))\n",
    "    pickle.dump(patient_to_episode_to_burst_lengths, open('saved_output/patient_to_episode_to_burst_lengths.pkl', 'w'))\n",
    "else:\n",
    "    patient_to_bs_episode_lengths = pickle.load(open('saved_output/patient_to_bs_episode_lengths.pkl'))\n",
    "    patient_to_episode_to_burst_lengths = pickle.load(open('saved_output/patient_to_episode_to_burst_lengths.pkl'))"
   ]
  },
  {
   "cell_type": "markdown",
   "metadata": {},
   "source": [
    "### How many patients with a bs episode longer than, eg, 60 mins?"
   ]
  },
  {
   "cell_type": "code",
   "execution_count": null,
   "metadata": {
    "collapsed": true
   },
   "outputs": [],
   "source": [
    "def get_bs_patients(min_episode_length):\n",
    "    bs_patients = []\n",
    "    for patient in patient_to_bs_episode_lengths:\n",
    "        has_bs = False\n",
    "        lens = patient_to_bs_episode_lengths[patient]\n",
    "        for l in lens:\n",
    "            if l > min_episode_length:\n",
    "                has_bs = True\n",
    "        if has_bs:\n",
    "            bs_patients.append(patient)\n",
    "    print '{} patients with 1+ episode longer than {} mins'.format(len(bs_patients), min_episode_length)\n",
    "    return bs_patients\n",
    "bs_patients = get_bs_patients(60)\n",
    "bs_patients = get_bs_patients(45)\n",
    "bs_patients = get_bs_patients(30)\n",
    "bs_patients = get_bs_patients(-1)"
   ]
  },
  {
   "cell_type": "markdown",
   "metadata": {},
   "source": [
    "# Num bs episodes per patient"
   ]
  },
  {
   "cell_type": "code",
   "execution_count": null,
   "metadata": {
    "collapsed": true
   },
   "outputs": [],
   "source": [
    "%matplotlib inline\n",
    "num_episodes = []\n",
    "for patient in patient_to_bs_episode_lengths:\n",
    "    patient_episode_lengths = patient_to_bs_episode_lengths[patient]\n",
    "    patient_num_episodes = len(patient_episode_lengths)\n",
    "    num_episodes.append(patient_num_episodes)\n",
    "\n",
    "if USE_PLOTLY:\n",
    "    describe_array_plotly(num_episodes, 'Number of burst suppression episodes across patients', 'Number of burst suppression episodes', 'Number of patients', \n",
    "               rug_labels=patient_to_bs_episode_lengths.keys(), bin_size=5)\n",
    "    describe_array_plotly(num_episodes, 'Number of burst suppression episodes across patients', 'Number of burst suppression episodes', 'Number of patients',\n",
    "               rug_labels=patient_to_bs_episode_lengths.keys(), zoom=(0, 5))\n",
    "else:\n",
    "    num_episodes = np.array(num_episodes)\n",
    "    describe_array(num_episodes, 'Number of burst suppression episodes across patients', 'Number of burst suppression episodes', \n",
    "                   'Number of patients', bins=55, save=True)"
   ]
  },
  {
   "cell_type": "markdown",
   "metadata": {},
   "source": [
    "# Length of bs episodes"
   ]
  },
  {
   "cell_type": "code",
   "execution_count": null,
   "metadata": {
    "collapsed": true
   },
   "outputs": [],
   "source": [
    "xlabel = 'Burst suppression episode duration (mins)'\n",
    "ylabel = 'Number of burst suppression episodes'"
   ]
  },
  {
   "cell_type": "markdown",
   "metadata": {},
   "source": [
    "### All bs episode lengths"
   ]
  },
  {
   "cell_type": "code",
   "execution_count": null,
   "metadata": {
    "collapsed": true
   },
   "outputs": [],
   "source": [
    "all_bs_episode_lengths_flat = []\n",
    "rug_labels = []\n",
    "for patient in patient_to_bs_episode_lengths:\n",
    "    all_bs_episode_lengths_flat += patient_to_bs_episode_lengths[patient]\n",
    "    for i in range(len(patient_to_bs_episode_lengths[patient])):\n",
    "        rug_labels.append(patient)\n",
    "\n",
    "if USE_PLOTLY:\n",
    "    describe_array_plotly(all_bs_episode_lengths_flat, 'Duration of burst suppression episodes across all patients', \n",
    "                   xlabel, ylabel, rug_labels=rug_labels, bin_size=1)\n",
    "    describe_array_plotly(all_bs_episode_lengths_flat, 'Duration of burst suppression episodes across all patients', xlabel, ylabel, \n",
    "                   rug_labels=rug_labels, zoom=(0, 100))\n",
    "else:\n",
    "    all_bs_episode_lengths_flat = np.array(all_bs_episode_lengths_flat)\n",
    "    describe_array(all_bs_episode_lengths_flat, 'Duration of burst suppression episodes across all patients', xlabel, ylabel, rug=False)\n",
    "    describe_array(all_bs_episode_lengths_flat, 'Duration of burst suppression episodes across all patients', xlabel, ylabel, \n",
    "                   zoom=(0, 200), rug=False, save=True)"
   ]
  },
  {
   "cell_type": "markdown",
   "metadata": {},
   "source": [
    "### Bs episode lengths per patient"
   ]
  },
  {
   "cell_type": "code",
   "execution_count": null,
   "metadata": {
    "collapsed": true
   },
   "outputs": [],
   "source": [
    "arrs = []\n",
    "titles = []\n",
    "for patient in patient_to_bs_episode_lengths:\n",
    "    arrs.append(patient_to_bs_episode_lengths[patient])\n",
    "    title = 'Length of bs episodes - {}'.format(patient)\n",
    "    titles.append(title)\n",
    "describe_arrays(arrs, titles, xlabel, ylabel, use_plotly=USE_PLOTLY)"
   ]
  },
  {
   "cell_type": "markdown",
   "metadata": {},
   "source": [
    "# Duration of bursts"
   ]
  },
  {
   "cell_type": "code",
   "execution_count": null,
   "metadata": {
    "collapsed": true
   },
   "outputs": [],
   "source": [
    "xlabel = 'Burst duration (secs)'\n",
    "ylabel = 'Number of bursts'"
   ]
  },
  {
   "cell_type": "markdown",
   "metadata": {},
   "source": [
    "### All burst lengths"
   ]
  },
  {
   "cell_type": "code",
   "execution_count": null,
   "metadata": {
    "collapsed": true
   },
   "outputs": [],
   "source": [
    "burst_lengths_flat = []\n",
    "for patient in patient_to_episode_to_burst_lengths:\n",
    "    episode_to_burst_lengths = patient_to_episode_to_burst_lengths[patient]\n",
    "    for episode in episode_to_burst_lengths:\n",
    "        burst_lengths_flat += episode_to_burst_lengths[episode] \n",
    "if USE_PLOTLY:\n",
    "    describe_array_plotly(burst_lengths_flat, 'Duration of bursts across all patients and episodes', xlabel, ylabel, rug=False)\n",
    "    describe_array_plotly(burst_lengths_flat, 'Duration of bursts across all patients and episodes', xlabel, ylabel, \n",
    "                   zoom=(0, 5), bin_size=0.1, rug=False)\n",
    "else:\n",
    "    burst_lengths_flat = np.array(burst_lengths_flat)\n",
    "    describe_array(burst_lengths_flat, 'Duration of bursts across all patients and episodes', xlabel, ylabel, rug=False)\n",
    "    describe_array(burst_lengths_flat, 'Duration of bursts across all patients and episodes', xlabel, ylabel, \n",
    "                   zoom=(0, 5), rug=False, save=True)"
   ]
  },
  {
   "cell_type": "markdown",
   "metadata": {},
   "source": [
    "### Burst lengths per patient"
   ]
  },
  {
   "cell_type": "code",
   "execution_count": null,
   "metadata": {
    "collapsed": true
   },
   "outputs": [],
   "source": [
    "arrs = []\n",
    "titles = []\n",
    "all_rug_labels = []\n",
    "for patient in patient_to_episode_to_burst_lengths:\n",
    "    burst_lengths_flat = []\n",
    "    episode_to_burst_lengths = patient_to_episode_to_burst_lengths[patient]\n",
    "    plot_rug_labels = []\n",
    "    for episode in episode_to_burst_lengths:\n",
    "        burst_lengths_flat += episode_to_burst_lengths[episode]\n",
    "        for i in range(len(episode_to_burst_lengths[episode])):\n",
    "            plot_rug_labels.append(str(episode))\n",
    "    title = 'Length of bursts - {} - all episodes'.format(patient)\n",
    "    arrs.append(burst_lengths_flat)\n",
    "    titles.append(title)\n",
    "    all_rug_labels.append(plot_rug_labels)\n",
    "if USE_PLOTLY:\n",
    "    describe_arrays(arrs, titles, xlabel, ylabel, rug_labels=all_rug_labels, use_plotly=USE_PLOTLY)\n",
    "else:\n",
    "    describe_arrays(arrs, titles, xlabel, ylabel, rug=False, use_plotly=USE_PLOTLY)"
   ]
  },
  {
   "cell_type": "markdown",
   "metadata": {},
   "source": [
    "### Burst lengths per episode"
   ]
  },
  {
   "cell_type": "code",
   "execution_count": null,
   "metadata": {
    "collapsed": true
   },
   "outputs": [],
   "source": [
    "arrs = []\n",
    "titles = []\n",
    "for patient in patient_to_episode_to_burst_lengths:\n",
    "    episode_to_burst_lengths = patient_to_episode_to_burst_lengths[patient]\n",
    "    for episode in episode_to_burst_lengths:\n",
    "        arrs.append(episode_to_burst_lengths[episode])\n",
    "        title = 'Length of bursts - {} - Episode {}'.format(patient, episode)\n",
    "        titles.append(title)\n",
    "describe_arrays(arrs, titles, xlabel, ylabel, rug=False, use_plotly=False)"
   ]
  }
 ],
 "metadata": {
  "kernelspec": {
   "display_name": "Python 2",
   "language": "python",
   "name": "python2"
  },
  "language_info": {
   "codemirror_mode": {
    "name": "ipython",
    "version": 2
   },
   "file_extension": ".py",
   "mimetype": "text/x-python",
   "name": "python",
   "nbconvert_exporter": "python",
   "pygments_lexer": "ipython2",
   "version": "2.7.14"
  }
 },
 "nbformat": 4,
 "nbformat_minor": 2
}
