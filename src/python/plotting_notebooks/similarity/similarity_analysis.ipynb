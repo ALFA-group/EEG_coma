{
 "cells": [
  {
   "cell_type": "code",
   "execution_count": null,
   "metadata": {},
   "outputs": [],
   "source": [
    "import math\n",
    "import os\n",
    "import json\n",
    "import matplotlib.pyplot as plt\n",
    "import IPython\n",
    "import numpy as np\n",
    "import pandas as pd\n",
    "import cPickle as pickle\n",
    "import sys\n",
    "import h5py\n",
    "import copy\n",
    "\n",
    "from similarity_output_collectors import *\n",
    "from similarity_output_analysis import *\n",
    "from similarity_scaling import scale_arr\n",
    "\n",
    "sys.path.append('..')\n",
    "from histogram import *\n",
    "sys.path.append('../../')\n",
    "import utils\n",
    "import readers\n",
    "from readers.patient_info import PatientInfo\n",
    "from readers.similarity_output_reader import SimilarityOutputReader"
   ]
  },
  {
   "cell_type": "markdown",
   "metadata": {},
   "source": [
    "### Define the directory containing the similarity output"
   ]
  },
  {
   "cell_type": "code",
   "execution_count": null,
   "metadata": {
    "collapsed": true
   },
   "outputs": [],
   "source": [
    "similarity_output_dir = '/afs/csail.mit.edu/u/t/tzhan/NFS/script_output/similarity_no_clip/'\n",
    "# a short tag for the directory, so that saved figures are named with the tag\n",
    "pickle_tag = 'no_clip_new'"
   ]
  },
  {
   "cell_type": "markdown",
   "metadata": {},
   "source": [
    "### Create the required readers"
   ]
  },
  {
   "cell_type": "code",
   "execution_count": null,
   "metadata": {
    "collapsed": true
   },
   "outputs": [],
   "source": [
    "outcomes_path = '../../../../patient_outcome_info/'\n",
    "patientInfo = PatientInfo(outcomes_path)\n",
    "similarityReader = SimilarityOutputReader(similarity_output_dir)"
   ]
  },
  {
   "cell_type": "markdown",
   "metadata": {},
   "source": [
    "## Define processing"
   ]
  },
  {
   "cell_type": "code",
   "execution_count": null,
   "metadata": {
    "collapsed": true
   },
   "outputs": [],
   "source": [
    "def get_similarity_info(similarity_fn, min_episode_length, collectors, scale_fn, scale_param, max_iter=None, iter_start=None):\n",
    "    # similarity_fn is one of 'sim' or 'xcorr'\n",
    "    patients = patientInfo.get_all_sids()\n",
    "    for i, patient in enumerate(patients):\n",
    "        if iter_start is not None and i < iter_start:\n",
    "            continue\n",
    "        print(i, patient)\n",
    "        if patientInfo.is_excluded(patient):\n",
    "            print('excluded, continuing')\n",
    "            continue\n",
    "        if max_iter is not None and i==max_iter:\n",
    "            break\n",
    "        patient_all_sims = []\n",
    "        for (edf_name, _, _) in patientInfo.get_edfs_and_indices(patient, max_num_hours=72):\n",
    "            episode_to_sims_list = similarityReader.get_similarities(edf_name, similarity_fn, \n",
    "                                                                     convert_to_np=True, \n",
    "                                                                     min_episode_length=min_episode_length)\n",
    "            edf_all_sims = similarityReader.flatten_similarities_list(episode_to_sims_list)\n",
    "            patient_all_sims.extend(edf_all_sims)\n",
    "        patient_all_sims = np.array(patient_all_sims)\n",
    "        patient_all_sims = scale_arr(patient_all_sims, similarity_fn, scale_fn=scale_fn, param=scale_param)\n",
    "        outcome = patientInfo.get_outcome(patient)\n",
    "        for collector in collectors:\n",
    "            collector.add_patient_all_sims(patient_all_sims, outcome)\n",
    "\n",
    "        #IPython.display.clear_output()\n",
    "    for collector in collectors:\n",
    "        collector.done()\n",
    "    return collectors, patients"
   ]
  },
  {
   "cell_type": "code",
   "execution_count": null,
   "metadata": {
    "collapsed": true
   },
   "outputs": [],
   "source": [
    "def create_collectors(bin_size):\n",
    "    percentileC = PercentileCollector()\n",
    "    meanC = MeanCollector()\n",
    "    goodHistogramC = HistogramCollector(lambda outcome: utils.is_good_outcome(outcome), bin_size=bin_size)\n",
    "    badHistogramC = HistogramCollector(lambda outcome: utils.is_bad_outcome(outcome), bin_size=bin_size)\n",
    "    bsOutcomeC = BSOutcomeCollector()\n",
    "    outcomeC= OutcomeCollector()\n",
    "    return [percentileC, meanC, goodHistogramC, badHistogramC, bsOutcomeC, outcomeC]"
   ]
  },
  {
   "cell_type": "code",
   "execution_count": null,
   "metadata": {
    "collapsed": true
   },
   "outputs": [],
   "source": [
    "def get_pickled_histogram_collector(histogramC):\n",
    "    histogramC_pkl = copy.deepcopy(histogramC)\n",
    "    histogramC_pkl.outcome_predicate = None\n",
    "    return histogramC_pkl\n",
    "    \n",
    "def pickle_dtw_info(percentileC, meanC, goodHistogramC, badHistogramC, bsOutcomeC, outcomeC, patients, save_path):\n",
    "    goodHistogramC_pkl = get_pickled_histogram_collector(goodHistogramC)\n",
    "    badHistogramC_pkl = get_pickled_histogram_collector(badHistogramC)\n",
    "    pickle.dump(([percentileC, meanC, goodHistogramC_pkl, badHistogramC_pkl, bsOutcomeC, outcomeC], patients), open(save_path, \"w\"))\n",
    "    \n",
    "def pickle_xcorr_info(percentileC, meanC, goodHistogramC, badHistogramC, save_path):\n",
    "    goodHistogramC_pkl = get_pickled_histogram_collector(goodHistogramC)\n",
    "    badHistogramC_pkl = get_pickled_histogram_collector(badHistogramC)\n",
    "    pickle.dump([percentileC, meanC, goodHistogramC_pkl, badHistogramC_pkl], open(save_path, \"w\"))"
   ]
  },
  {
   "cell_type": "code",
   "execution_count": null,
   "metadata": {
    "collapsed": true
   },
   "outputs": [],
   "source": [
    "def single_patient_histogram(patient, similarity_fn, scale_fn, scale_param, min_episode_length):\n",
    "    patient_all_sims = []\n",
    "    for (edf_name, _, _) in patientInfo.get_edfs_and_indices(patient, max_num_hours=72):\n",
    "        episode_to_sims_list = similarityReader.get_similarities(edf_name, similarity_fn, \n",
    "                                                                 convert_to_np=True, \n",
    "                                                                 min_episode_length=min_episode_length)\n",
    "        edf_all_sims = similarityReader.flatten_similarities_list(episode_to_sims_list)\n",
    "        patient_all_sims.extend(edf_all_sims)\n",
    "    patient_all_sims = np.array(patient_all_sims)\n",
    "    patient_all_sims = scale_arr(patient_all_sims, similarity_fn, scale_fn=scale_fn, param=scale_param)\n",
    "    outcome = patientInfo.get_outcome(patient)\n",
    "    return describe_array(patient_all_sims, '{} similarity histogram'.format(patient), \n",
    "                   'similarity {}, {} scaling'.format(similarity_fn, scale_fn), \n",
    "                   'density', rug=False, norm_hist=True, bins=500)"
   ]
  },
  {
   "cell_type": "markdown",
   "metadata": {},
   "source": [
    "## Read and process the results"
   ]
  },
  {
   "cell_type": "markdown",
   "metadata": {},
   "source": [
    "### Define desired parameters of getting the results"
   ]
  },
  {
   "cell_type": "code",
   "execution_count": null,
   "metadata": {
    "collapsed": true
   },
   "outputs": [],
   "source": [
    "min_episode_length = 30\n",
    "scale_fn = 'noscale'\n",
    "scale_param = 50.0\n",
    "# set run_results to False if there are saved pickled results you want to use\n",
    "run_results = False"
   ]
  },
  {
   "cell_type": "markdown",
   "metadata": {},
   "source": [
    "### Derive parameters from the above named parameters"
   ]
  },
  {
   "cell_type": "code",
   "execution_count": null,
   "metadata": {
    "collapsed": true
   },
   "outputs": [],
   "source": [
    "if scale_fn=='exp' and scale_param==50:\n",
    "    scale_tag = '{}_{}'.format(scale_fn, scale_param)\n",
    "else:\n",
    "    scale_tag = scale_fn\n",
    "image_info = '{}_{}'.format(scale_tag, pickle_tag)\n",
    "if not os.path.exists('saved_output/pickled_collectors/'):\n",
    "    os.makedirs('saved_output/pickled_collectors/')"
   ]
  },
  {
   "cell_type": "markdown",
   "metadata": {},
   "source": [
    "### Get the \"Collector\" objects containing the output data, either by reading the output directory, or by loading  old saved objects"
   ]
  },
  {
   "cell_type": "code",
   "execution_count": null,
   "metadata": {
    "collapsed": true,
    "scrolled": false
   },
   "outputs": [],
   "source": [
    "if run_results:\n",
    "    if scale_fn=='noscale':\n",
    "        bin_size = 1.0\n",
    "    else:\n",
    "        bin_size = 0.002\n",
    "    ([dtw_percentileC, dtw_meanC, dtw_goodHistogramC, dtw_badHistogramC, \n",
    "     bsOutcomeC, outcomeC], patients) = get_similarity_info('dtw', min_episode_length, create_collectors(bin_size), scale_fn=scale_fn, scale_param=scale_param)\n",
    "    print('pickle dtw')\n",
    "    pickle_dtw_info(dtw_percentileC, dtw_meanC, dtw_goodHistogramC, dtw_badHistogramC, \n",
    "                    bsOutcomeC, outcomeC, patients, \n",
    "                    save_path='saved_output/pickled_collectors/dtw_similarity_info_{}_{}_{}.pkl'.format(pickle_tag, min_episode_length, scale_tag))\n",
    "    ([xcorr_percentileC, xcorr_meanC, xcorr_goodHistogramC, xcorr_badHistogramC,\n",
    "    _, _], _) = get_similarity_info('xcorr', min_episode_length, create_collectors(bin_size), scale_fn=scale_fn, scale_param=scale_param)\n",
    "    print('pickle xcorr')\n",
    "    pickle_xcorr_info(xcorr_percentileC, xcorr_meanC, xcorr_goodHistogramC, xcorr_badHistogramC,\n",
    "                    save_path='saved_output/pickled_collectors/xcorr_similarity_info_{}_{}_{}.pkl'.format(pickle_tag, min_episode_length, scale_tag))\n",
    "else:\n",
    "    # load pickled result\n",
    "    save_path = 'saved_output/pickled_collectors/{}_similarity_info_{}_{}_{}.pkl'\n",
    "    dtw_save_path = save_path.format('dtw', pickle_tag, min_episode_length, scale_tag)\n",
    "    xcorr_save_path = save_path.format('xcorr', pickle_tag, min_episode_length, scale_tag)\n",
    "    ([dtw_percentileC, dtw_meanC, dtw_goodHistogramC, dtw_badHistogramC, \n",
    "     bsOutcomeC, outcomeC], patients) = pickle.load(open(dtw_save_path, \"rb\"))\n",
    "    [xcorr_percentileC, xcorr_meanC, xcorr_goodHistogramC, xcorr_badHistogramC] = pickle.load(open(xcorr_save_path, \"rb\"))\n",
    "    dtw_badHistogramC.outcome_predicate = utils.is_bad_outcome\n",
    "    dtw_goodHistogramC.outcome_predicate = utils.is_good_outcome\n",
    "    xcorr_goodHistogramC.outcome_predicate = utils.is_good_outcome\n",
    "    xcorr_badHistogramC.outcome_predicate = utils.is_bad_outcome"
   ]
  },
  {
   "cell_type": "markdown",
   "metadata": {},
   "source": [
    "# Histograms of similarity for good vs bad"
   ]
  },
  {
   "cell_type": "code",
   "execution_count": null,
   "metadata": {
    "collapsed": true
   },
   "outputs": [],
   "source": [
    "title = 'Similarities ({}) of patients with good vs bad outcomes'\n",
    "xlabel = 'Similarity'\n",
    "ylabel = 'Density of burst pairs'"
   ]
  },
  {
   "cell_type": "code",
   "execution_count": null,
   "metadata": {
    "collapsed": true
   },
   "outputs": [],
   "source": [
    "percentiles = [0, 20,40, 50, 60,70, 80, 85, 90, 95, 100]\n",
    "def print_percentiles(percentiles, results):\n",
    "    a = \"\"\n",
    "    for percentile, result in zip(percentiles, results):\n",
    "        a += \", \"+ str(percentile)+\": \"+str(result)\n",
    "    print a"
   ]
  },
  {
   "cell_type": "code",
   "execution_count": null,
   "metadata": {},
   "outputs": [],
   "source": [
    "print_percentiles(percentiles, precounted_percentiles(dtw_badHistogramC.aggregate_histograms(normalize_row=True), dtw_badHistogramC.bins, percentiles))\n",
    "print_percentiles(percentiles, precounted_percentiles(dtw_goodHistogramC.aggregate_histograms(normalize_row=True), dtw_goodHistogramC.bins, percentiles))\n",
    "ax = precounted_histograms([dtw_goodHistogramC.aggregate_histograms(normalize_row=True), \n",
    "                       dtw_badHistogramC.aggregate_histograms(normalize_row=True)], \n",
    "                    [dtw_goodHistogramC.bins, dtw_badHistogramC.bins], title.format('DTW'), \n",
    "                      xlabel, ylabel, ['dtw good', 'dtw bad'])\n",
    "ax.figure.savefig('saved_output/similarity_histogram_good_vs_bad/similarity_histogram_good_vs_bad_dtw_{}.png'.format(image_info),\n",
    "                 bbox_inches='tight')"
   ]
  },
  {
   "cell_type": "code",
   "execution_count": null,
   "metadata": {},
   "outputs": [],
   "source": [
    "print_percentiles(percentiles, precounted_percentiles(xcorr_badHistogramC.aggregate_histograms(normalize_row=True), xcorr_badHistogramC.bins, percentiles))\n",
    "print_percentiles(percentiles, precounted_percentiles(xcorr_goodHistogramC.aggregate_histograms(normalize_row=True), xcorr_goodHistogramC.bins, percentiles))\n",
    "ax = precounted_histograms([xcorr_goodHistogramC.aggregate_histograms(normalize_row=True), \n",
    "                       xcorr_badHistogramC.aggregate_histograms(normalize_row=True)], \n",
    "                    [xcorr_goodHistogramC.bins, xcorr_badHistogramC.bins], title.format('xcorr'), \n",
    "                      xlabel, ylabel, ['xcorr good', 'xcorr bad'])\n",
    "ax.figure.savefig('saved_output/similarity_histogram_good_vs_bad/similarity_histogram_good_vs_bad_xcorr_{}.png'.format(image_info),\n",
    "                 bbox_inches='tight')"
   ]
  },
  {
   "cell_type": "markdown",
   "metadata": {},
   "source": [
    "# Histograms of sample good and sample bad"
   ]
  },
  {
   "cell_type": "code",
   "execution_count": null,
   "metadata": {
    "collapsed": true
   },
   "outputs": [],
   "source": [
    "# This gets the histograms for a single patient and saves it\n",
    "a = single_patient_histogram('mgh112', 'dtw', 'exp', 50.0, 30)\n",
    "a.figure.savefig('mgh112_histogram.png')\n",
    "b = single_patient_histogram('ynh34', 'dtw', 'exp', 50.0, 30)\n",
    "b.figure.savefig('ynh34_histogram.png')"
   ]
  },
  {
   "cell_type": "markdown",
   "metadata": {},
   "source": [
    "# Similarity/Distance vs outcome"
   ]
  },
  {
   "cell_type": "markdown",
   "metadata": {},
   "source": [
    "## Define the summary measure"
   ]
  },
  {
   "cell_type": "code",
   "execution_count": null,
   "metadata": {
    "collapsed": true
   },
   "outputs": [],
   "source": [
    "# For each patient, we get one single summary measure of similarity from their entire \n",
    "# similarities vector summary_measure is either 'mean' or 'percentile'. \n",
    "# if 'mean', we use the mean of the similarities vector. \n",
    "# if 'percentile', we use the 'summary_percentile' decile of the similarities vector\n",
    "summary_measure = 'mean'\n",
    "# summary_percentile_decile is integer beween 0 and 10. It is ignored if 'summary_measure' is mean. \n",
    "# summary_percentile_decile of 2, for instance, means 20% percentile\n",
    "summary_percentile_decile = 2"
   ]
  },
  {
   "cell_type": "code",
   "execution_count": null,
   "metadata": {
    "collapsed": true
   },
   "outputs": [],
   "source": [
    "if summary_measure=='mean':\n",
    "    dtw_x = dtw_meanC.means_list\n",
    "    xcorr_x = xcorr_meanC.means_list\n",
    "    summary_tag = 'mean'\n",
    "elif summary_measure=='percentile':\n",
    "    dtw_x = dtw_meanC.percentiles_list[:, summary_percentile_decile]\n",
    "    xcorr_x = xcorr_meanC.percentiles_list[:, summary_percentile_decile]\n",
    "    summary_tag = 'perc{}'.format(summary_percentile_decile)\n",
    "else:\n",
    "    print 'summary_measure must be either \"mean\" or \"percentile\"'\n",
    "outcomes = outcomeC.outcomes"
   ]
  },
  {
   "cell_type": "markdown",
   "metadata": {},
   "source": [
    "## Bar plots"
   ]
  },
  {
   "cell_type": "markdown",
   "metadata": {},
   "source": [
    "#### DTW"
   ]
  },
  {
   "cell_type": "code",
   "execution_count": null,
   "metadata": {
    "collapsed": true,
    "scrolled": true
   },
   "outputs": [],
   "source": [
    "nbins = 7\n",
    "binarize = False\n",
    "transpose = False\n",
    "bin_by_percentile = False\n",
    "p = plot_xbins_vs_percent_outcomes(dtw_x, outcomeC.outcomes, nbins=nbins, normalize=True, binarize=binarize, transpose=transpose, \n",
    "                                   scale_xaxis=True, bin_by_percentile=bin_by_percentile, similarity_fn='dtw')\n",
    "p.figure.savefig('saved_output/bar_plots/{}_{}_dtw_{}bins_binarize{}_binperc{}_trans{}.png'.format(image_info, summary_tag, \n",
    "                                                                                                    nbins, int(binarize), \n",
    "                                                                                                   int(bin_by_percentile), \n",
    "                                                                                                    int(transpose)),\n",
    "                bbox_inches='tight')"
   ]
  },
  {
   "cell_type": "markdown",
   "metadata": {},
   "source": [
    "#### Cross-correlation"
   ]
  },
  {
   "cell_type": "code",
   "execution_count": null,
   "metadata": {
    "collapsed": true,
    "scrolled": true
   },
   "outputs": [],
   "source": [
    "nbins = 4\n",
    "binarize = False\n",
    "transpose = False\n",
    "bin_by_percentile = True\n",
    "p = plot_xbins_vs_percent_outcomes(xcorr_x, outcomeC.outcomes, nbins=nbins, normalize=True, binarize=binarize, transpose=transpose, \n",
    "                                   scale_xaxis=True, bin_by_percentile=bin_by_percentile, similarity_fn='cross-correlation')\n",
    "p.figure.savefig('saved_output/bar_plots/{}_{}_xcorr_{}bins_binarize{}_binperc{}_trans{}.png'.format(image_info, summary_tag, \n",
    "                                                                                                    nbins, int(binarize), \n",
    "                                                                                                   int(bin_by_percentile), \n",
    "                                                                                                    int(transpose)),\n",
    "                bbox_inches='tight')"
   ]
  },
  {
   "cell_type": "markdown",
   "metadata": {},
   "source": [
    "## Statistical Correlation"
   ]
  },
  {
   "cell_type": "code",
   "execution_count": null,
   "metadata": {
    "collapsed": true
   },
   "outputs": [],
   "source": [
    "statistical_correlation(dtw_x, outcomes)\n",
    "statistical_correlation(xcorr_x, outcomes)"
   ]
  },
  {
   "cell_type": "markdown",
   "metadata": {},
   "source": [
    "## Plot of similarity vs outcome"
   ]
  },
  {
   "cell_type": "code",
   "execution_count": null,
   "metadata": {
    "collapsed": true
   },
   "outputs": [],
   "source": [
    "plot_x_vs_outcome(dtw_x, outcomes, filter=True)"
   ]
  },
  {
   "cell_type": "code",
   "execution_count": null,
   "metadata": {
    "collapsed": true
   },
   "outputs": [],
   "source": [
    "plot_x_vs_outcome(xcorr_x, outcomes, filter=True)"
   ]
  },
  {
   "cell_type": "markdown",
   "metadata": {},
   "source": [
    "## ROC Curves"
   ]
  },
  {
   "cell_type": "code",
   "execution_count": null,
   "metadata": {
    "scrolled": true
   },
   "outputs": [],
   "source": [
    "plot = roc(dtw_x, outcomes, similarity_fn='dtw', similarity_type='distance' if scale_fn=='noscale' else 'similarity')\n",
    "plot.savefig('saved_output/roc/roc_{}_{}_dtw.png'.format(image_info, summary_tag), bbox_inches='tight')"
   ]
  },
  {
   "cell_type": "code",
   "execution_count": null,
   "metadata": {
    "collapsed": true
   },
   "outputs": [],
   "source": [
    "plot = roc(xcorr_x, outcomes, similarity_fn='cross-correlation')\n",
    "plot.savefig('saved_output/roc/roc_{}_{}_xcorr.png'.format(image_info, summary_tag), bbox_inches='tight')"
   ]
  },
  {
   "cell_type": "markdown",
   "metadata": {},
   "source": [
    "## For each summary measure available, print the number of bad patients which we could distinguish using the most similar good patient score as a cutoff"
   ]
  },
  {
   "cell_type": "code",
   "execution_count": null,
   "metadata": {},
   "outputs": [],
   "source": [
    "print 'dtw \\n mean - ', threshold(dtw_meanC.means_list, outcomes, 'distance' if scale_fn=='noscale' else 'similarity')\n",
    "for i in range(0, 11):\n",
    "    cutoff, num_cutoff = threshold(dtw_percentileC.percentiles_list[:, i], outcomes, 'distance' if scale_fn=='noscale' else 'similarity')\n",
    "    print 'percentile {}, cutoff {}, num bad beyond cutoff {}'.format(i, cutoff, num_cutoff)\n",
    "print 'xcorr \\n mean - ', threshold(xcorr_meanC.means_list, outcomes, 'similarity')\n",
    "for i in range(11):\n",
    "    cutoff, num_cutoff = threshold(xcorr_percentileC.percentiles_list[:, i], outcomes, 'similarity')\n",
    "    print 'percentile {}, cutoff {}, num bad beyond cutoff {}'.format(i, cutoff, num_cutoff)"
   ]
  },
  {
   "cell_type": "markdown",
   "metadata": {},
   "source": [
    "# Heatmap of distribution similarity for good, bad patients"
   ]
  },
  {
   "cell_type": "code",
   "execution_count": null,
   "metadata": {},
   "outputs": [],
   "source": [
    "img = heatmap_distribution_similarity(xcorr_goodHistogramC, xcorr_badHistogramC, figsize=(30, 30))\n",
    "#img.figure.savefig('saved_output/heatmap_matrix/heatmap_similarity_dists_xcorr_{}.png'.format(image_info))"
   ]
  },
  {
   "cell_type": "code",
   "execution_count": null,
   "metadata": {
    "scrolled": true
   },
   "outputs": [],
   "source": [
    "img = heatmap_distribution_similarity(dtw_goodHistogramC, dtw_badHistogramC, figsize=(30, 30))\n",
    "#img.figure.savefig('saved_output/heatmap_matrix/heatmap_similarity_dists_dtw_{}.png'.format(image_info))"
   ]
  },
  {
   "cell_type": "code",
   "execution_count": null,
   "metadata": {
    "scrolled": false
   },
   "outputs": [],
   "source": [
    "compare_patient_dists(dtw_goodHistogramC, dtw_badHistogramC, 'g11', 'g12', plot=True)"
   ]
  }
 ],
 "metadata": {
  "kernelspec": {
   "display_name": "Python 2",
   "language": "python",
   "name": "python2"
  },
  "language_info": {
   "codemirror_mode": {
    "name": "ipython",
    "version": 2
   },
   "file_extension": ".py",
   "mimetype": "text/x-python",
   "name": "python",
   "nbconvert_exporter": "python",
   "pygments_lexer": "ipython2",
   "version": "2.7.14"
  }
 },
 "nbformat": 4,
 "nbformat_minor": 2
}
